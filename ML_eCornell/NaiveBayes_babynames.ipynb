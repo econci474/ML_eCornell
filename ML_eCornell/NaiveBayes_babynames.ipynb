{
  "nbformat": 4,
  "nbformat_minor": 0,
  "metadata": {
    "colab": {
      "provenance": []
    },
    "kernelspec": {
      "name": "python3",
      "display_name": "Python 3"
    },
    "language_info": {
      "name": "python"
    }
  },
  "cells": [
    {
      "cell_type": "code",
      "execution_count": null,
      "metadata": {
        "id": "NZ69i0nMiHzl"
      },
      "outputs": [],
      "source": [
        "import sys\n",
        "import numpy as np # Numpy is Python's built in library for matrix operations.\n",
        "from scipy.stats import mode\n",
        "import sys\n",
        "%matplotlib notebook\n",
        "import matplotlib\n",
        "import matplotlib.pyplot as plt\n",
        "from scipy.io import loadmat\n",
        "import array as arr"
      ]
    },
    {
      "cell_type": "markdown",
      "source": [
        "# **Find the Class Priors for a Simple Array**\n",
        "In the project, you will need to write a function that determines the class priors for baby names. For example, if you have a simple array of binary labels that represents a training dataset of baby names, where “0” indicates a boy name and “1” indicates a girl name, your sample might look like this:\n",
        "\n",
        "\n",
        "[0, 0, 1, 1, 0, 1, 0, 1, 1, 0, 0, 0]\n",
        "\n",
        "\n",
        "Given this example array, you could easily count the number of occurrences and determine that the class prior for boy names is 7/12 and for girl names is 5/12. But what if you have a dataset that is much larger? How might you calculate the class prior efficiently?\n",
        "Instructions:\n",
        "Launch the iPython interpreter by typing ipython at the command prompt.\n",
        "Import NumPy with import numpy as np.\n",
        "Import the data set “labels” with from helper import labels. This is a list of all the labels in our dataset, which has 100 labeled examples.\n",
        "Determine the class priors for the two classes, boy and girl. Boys are labeled with 0, and girls with 1. Hint: use np.mean.\n",
        "Answer the multiple choice questions below to check your solution."
      ],
      "metadata": {
        "id": "eTXhz11_khAv"
      }
    },
    {
      "cell_type": "code",
      "source": [
        "labels = np.array([0, 1, 0, 1, 0, 0, 0, 1, 1, 0, 0, 0, 1, 0, 1, 0, 0, 0, 1, 0, 1, 0, 1, 0, 1, 1, 1, 0, 1, 1, 0, 1, 1, 1, 1, 0, 1, 1, 1, 0, 0, 0, 0, 1, 1, 1, 0, 1, 1, 0, 0, 0, 0, 1, 0, 1, 1, 1, 1, 1, 1, 0, 0, 0, 1, 1, 0, 1, 0, 1, 1, 1, 1, 0, 1, 0, 0, 1, 1, 1, 0, 0, 0, 0, 0, 0, 0, 1, 0, 0, 0, 1, 1, 0, 0, 1, 0, 1, 0, 0])\n",
        "\n"
      ],
      "metadata": {
        "id": "EQvTynf0kj7b"
      },
      "execution_count": null,
      "outputs": []
    },
    {
      "cell_type": "markdown",
      "source": [
        "Class prior for girls = sum of girls / total = sum of 1 / total numbers in array = sum of 1s / 100"
      ],
      "metadata": {
        "id": "jJtVCWpUloja"
      }
    },
    {
      "cell_type": "code",
      "source": [
        "girls = np.mean(labels)\n",
        "\n",
        "print(girls)"
      ],
      "metadata": {
        "colab": {
          "base_uri": "https://localhost:8080/"
        },
        "id": "4_Ub1e0JnPD5",
        "outputId": "817d0bc9-db0c-4cde-8f0a-39e396bdd932"
      },
      "execution_count": null,
      "outputs": [
        {
          "output_type": "stream",
          "name": "stdout",
          "text": [
            "0.49\n"
          ]
        }
      ]
    },
    {
      "cell_type": "markdown",
      "source": [
        "Class prior for guys = sum of guys / 100 = total - sum of girls / 100 = 1 - girls"
      ],
      "metadata": {
        "id": "NjOwllFMnTnD"
      }
    },
    {
      "cell_type": "code",
      "source": [
        "boys = 1-girls\n",
        "\n",
        "print(boys)"
      ],
      "metadata": {
        "colab": {
          "base_uri": "https://localhost:8080/"
        },
        "id": "CW3rFsEYlkyF",
        "outputId": "4975d2e4-d40e-4f64-bdfb-8e36a7b2a2c1"
      },
      "execution_count": null,
      "outputs": [
        {
          "output_type": "stream",
          "name": "stdout",
          "text": [
            "0.51\n"
          ]
        }
      ]
    },
    {
      "cell_type": "markdown",
      "source": [
        "Take the log of the class priors, so it is easier to sum those later"
      ],
      "metadata": {
        "id": "jtr5jnQenFGO"
      }
    },
    {
      "cell_type": "code",
      "source": [
        "NaiveBayesPY_boys = np.log(boys)\n",
        "NaiveBayesPY_girls = np.log(girls)"
      ],
      "metadata": {
        "id": "M2QbRPsxk0oy"
      },
      "execution_count": null,
      "outputs": []
    },
    {
      "cell_type": "markdown",
      "source": [
        "# **Find the Conditional Probability**\n",
        "In the final project of this course, you will need to write a function that assumes conditional independence and determines class-conditional probabilities.\n",
        "\n",
        "Imagine you have the following vector of probabilities of 5 features given a class label c:\n",
        "P(x|y=c) = [0.212, 0.234, 0.155, .021, .04]\n",
        "\n",
        "Since you will assume independence, you can simply multiply these probabilities to get the class conditional probability of observing this data point (i.e. this combination of feature values).\n",
        "\n",
        "Instructions:\n",
        "Launch the iPython interpreter by typing ipython at the command prompt.\n",
        "Import NumPy by running import numpy as np.\n",
        "\n",
        "Create the array np.array([0.212, 0.234, 0.155, .021, .04]), which corresponds to the likelihood of observing the features x_1 through x_5 conditional on the class label y=c.\n",
        "\n",
        "Compute the product, sum of the logarithm, and exponentiated sum of the logarithm of the probabilities.\n",
        "\n",
        "You may find np.prod, np.sum, np.log and np.exp helpful.\n",
        "Think about what this product signifies, in terms of probabilities.\n",
        "\n",
        "Answer the multiple choice questions below to check your solution.\n",
        "\n",
        "Note: You will notice that the product becomes very small quickly, whereas the logarithm stays well above machine precision and is therefore more computationally tractable!"
      ],
      "metadata": {
        "id": "SJBeMCCHn7T0"
      }
    },
    {
      "cell_type": "code",
      "source": [
        "p_x_given_y_is_c = np.array([0.212, 0.234, 0.155, .021, .04])"
      ],
      "metadata": {
        "id": "759RO6Hwoxpg"
      },
      "execution_count": null,
      "outputs": []
    },
    {
      "cell_type": "markdown",
      "source": [
        "Compute product of all features given y = c"
      ],
      "metadata": {
        "id": "JZf6MrK5pgpC"
      }
    },
    {
      "cell_type": "code",
      "source": [
        "prod_p_x_given_y_is_c = np.prod(p_x_given_y_is_c)\n",
        "print(prod_p_x_given_y_is_c)"
      ],
      "metadata": {
        "colab": {
          "base_uri": "https://localhost:8080/"
        },
        "id": "gbEYySGYpn8J",
        "outputId": "b0f2f9f3-990a-4d92-8ea5-c5e3605f2a07"
      },
      "execution_count": null,
      "outputs": [
        {
          "output_type": "stream",
          "name": "stdout",
          "text": [
            "6.458961600000001e-06\n"
          ]
        }
      ]
    },
    {
      "cell_type": "markdown",
      "source": [
        "Compute sum of the log of features given y = c"
      ],
      "metadata": {
        "id": "W5ImIblyqQhX"
      }
    },
    {
      "cell_type": "code",
      "source": [
        "sum_of_logs = np.sum(np.log(p_x_given_y_is_c))\n",
        "print(sum_of_logs)"
      ],
      "metadata": {
        "colab": {
          "base_uri": "https://localhost:8080/"
        },
        "id": "8UZot_btqotf",
        "outputId": "b6e02cfe-b342-46e8-f09f-b2ef0316f5a3"
      },
      "execution_count": null,
      "outputs": [
        {
          "output_type": "stream",
          "name": "stdout",
          "text": [
            "-11.950041996124366\n"
          ]
        }
      ]
    },
    {
      "cell_type": "markdown",
      "source": [
        "Compute exponent of sum of logs"
      ],
      "metadata": {
        "id": "JcS_4_Zjq-6h"
      }
    },
    {
      "cell_type": "code",
      "source": [
        "exp_sum_of_logs = np.exp(sum_of_logs)\n",
        "print(exp_sum_of_logs)"
      ],
      "metadata": {
        "colab": {
          "base_uri": "https://localhost:8080/"
        },
        "id": "fngFdh2su9Je",
        "outputId": "95f6fb8e-7fb2-4d18-ae84-ece28bfb8f12"
      },
      "execution_count": null,
      "outputs": [
        {
          "output_type": "stream",
          "name": "stdout",
          "text": [
            "6.458961599999997e-06\n"
          ]
        }
      ]
    },
    {
      "cell_type": "markdown",
      "source": [
        "# **Extract and Hash Binary Features**\n",
        "In the project, you will need to extract and hash features of names.\n",
        "Let’s say you have the following list of names and you want to determine whether each name in the list ends with a vowel (a, e, i, o, u, y) or a consonant.\n",
        " names = ['Natalia', 'Anastasia', 'Emilia', 'Marie', 'Jonas', 'Jordan', 'Brett']\n",
        "\n",
        "Given this list, you should return a “1” for “Natalia” since that name ends in a vowel. Since “Jonas” ends in a consonant, you would return a \"0\". For the exercise, you’ll practice writing code that can extract a binary feature representing whether each name ends in a vowel or a consonant.\n",
        "\n",
        "Instructions:\n",
        "Launch the iPython interpreter by typing ipython at the command prompt.\n",
        "Import a list of names from the helper file using from helper import names. Extract a binary feature that indicates whether the name ends in a vowel (1) or a consonant (0).\n",
        "Check the sum of all features across all names. (i.e., Determine the total number of names ending in a vowel.)\n",
        "Answer the multiple choice questions below to check your solution."
      ],
      "metadata": {
        "id": "-b4bn9Hr265l"
      }
    },
    {
      "cell_type": "code",
      "source": [
        "import numpy as np\n",
        "\n",
        "# List of names\n",
        "names = np.array(['Alice', 'Bob', 'Charlie', 'David', 'Eve', 'Frank'])\n",
        "\n",
        "# Define a function to check if a name ends in a vowel\n",
        "def ends_in_vowel(name):\n",
        "    vowels = np.array(['a', 'e', 'i', 'o', 'u'])\n",
        "    if name[-1].lower() in vowels:\n",
        "        return True\n",
        "    else:\n",
        "        return False\n",
        "\n",
        "# Use np.vectorize to apply ends_in_vowel to each element of names\n",
        "v_ends_in_vowel = np.vectorize(ends_in_vowel)\n",
        "vowels_mask = v_ends_in_vowel(names)\n",
        "\n",
        "# Use the vowels_mask to filter the original array of names and convert the filtered names to binary\n",
        "binary_names = np.array([bin(ord(name))[2:] for name in names[vowels_mask]]) #???\n",
        "\n",
        "# Print binary names\n",
        "print(binary_names)"
      ],
      "metadata": {
        "colab": {
          "base_uri": "https://localhost:8080/",
          "height": 351
        },
        "id": "LIFjE670vV3q",
        "outputId": "44dd9a2c-a964-470e-844f-781d1fd7ec50"
      },
      "execution_count": null,
      "outputs": [
        {
          "output_type": "error",
          "ename": "TypeError",
          "evalue": "ignored",
          "traceback": [
            "\u001b[0;31m---------------------------------------------------------------------------\u001b[0m",
            "\u001b[0;31mTypeError\u001b[0m                                 Traceback (most recent call last)",
            "\u001b[0;32m<ipython-input-206-b3ba86734827>\u001b[0m in \u001b[0;36m<module>\u001b[0;34m\u001b[0m\n\u001b[1;32m     17\u001b[0m \u001b[0;34m\u001b[0m\u001b[0m\n\u001b[1;32m     18\u001b[0m \u001b[0;31m# Use the vowels_mask to filter the original array of names and convert the filtered names to binary\u001b[0m\u001b[0;34m\u001b[0m\u001b[0;34m\u001b[0m\u001b[0m\n\u001b[0;32m---> 19\u001b[0;31m \u001b[0mbinary_names\u001b[0m \u001b[0;34m=\u001b[0m \u001b[0mnp\u001b[0m\u001b[0;34m.\u001b[0m\u001b[0marray\u001b[0m\u001b[0;34m(\u001b[0m\u001b[0;34m[\u001b[0m\u001b[0mbin\u001b[0m\u001b[0;34m(\u001b[0m\u001b[0mord\u001b[0m\u001b[0;34m(\u001b[0m\u001b[0mname\u001b[0m\u001b[0;34m)\u001b[0m\u001b[0;34m)\u001b[0m\u001b[0;34m[\u001b[0m\u001b[0;36m2\u001b[0m\u001b[0;34m:\u001b[0m\u001b[0;34m]\u001b[0m \u001b[0;32mfor\u001b[0m \u001b[0mname\u001b[0m \u001b[0;32min\u001b[0m \u001b[0mnames\u001b[0m\u001b[0;34m[\u001b[0m\u001b[0mvowels_mask\u001b[0m\u001b[0;34m]\u001b[0m\u001b[0;34m]\u001b[0m\u001b[0;34m)\u001b[0m\u001b[0;34m\u001b[0m\u001b[0;34m\u001b[0m\u001b[0m\n\u001b[0m\u001b[1;32m     20\u001b[0m \u001b[0;34m\u001b[0m\u001b[0m\n\u001b[1;32m     21\u001b[0m \u001b[0;31m# Print binary names\u001b[0m\u001b[0;34m\u001b[0m\u001b[0;34m\u001b[0m\u001b[0m\n",
            "\u001b[0;32m<ipython-input-206-b3ba86734827>\u001b[0m in \u001b[0;36m<listcomp>\u001b[0;34m(.0)\u001b[0m\n\u001b[1;32m     17\u001b[0m \u001b[0;34m\u001b[0m\u001b[0m\n\u001b[1;32m     18\u001b[0m \u001b[0;31m# Use the vowels_mask to filter the original array of names and convert the filtered names to binary\u001b[0m\u001b[0;34m\u001b[0m\u001b[0;34m\u001b[0m\u001b[0m\n\u001b[0;32m---> 19\u001b[0;31m \u001b[0mbinary_names\u001b[0m \u001b[0;34m=\u001b[0m \u001b[0mnp\u001b[0m\u001b[0;34m.\u001b[0m\u001b[0marray\u001b[0m\u001b[0;34m(\u001b[0m\u001b[0;34m[\u001b[0m\u001b[0mbin\u001b[0m\u001b[0;34m(\u001b[0m\u001b[0mord\u001b[0m\u001b[0;34m(\u001b[0m\u001b[0mname\u001b[0m\u001b[0;34m)\u001b[0m\u001b[0;34m)\u001b[0m\u001b[0;34m[\u001b[0m\u001b[0;36m2\u001b[0m\u001b[0;34m:\u001b[0m\u001b[0;34m]\u001b[0m \u001b[0;32mfor\u001b[0m \u001b[0mname\u001b[0m \u001b[0;32min\u001b[0m \u001b[0mnames\u001b[0m\u001b[0;34m[\u001b[0m\u001b[0mvowels_mask\u001b[0m\u001b[0;34m]\u001b[0m\u001b[0;34m]\u001b[0m\u001b[0;34m)\u001b[0m\u001b[0;34m\u001b[0m\u001b[0;34m\u001b[0m\u001b[0m\n\u001b[0m\u001b[1;32m     20\u001b[0m \u001b[0;34m\u001b[0m\u001b[0m\n\u001b[1;32m     21\u001b[0m \u001b[0;31m# Print binary names\u001b[0m\u001b[0;34m\u001b[0m\u001b[0;34m\u001b[0m\u001b[0m\n",
            "\u001b[0;31mTypeError\u001b[0m: ord() expected a character, but string of length 5 found"
          ]
        }
      ]
    },
    {
      "cell_type": "code",
      "source": [
        "names = ['Natalia', 'Anastasia', 'Emilia', 'Marie', 'Jonas', 'Jordan', 'Brett']\n"
      ],
      "metadata": {
        "id": "MFO2qXdT3mIv"
      },
      "execution_count": null,
      "outputs": []
    },
    {
      "cell_type": "code",
      "source": [
        "def isVowel(ch):\n",
        "    return 1*(ch == 'a' or ch == 'e' or ch == 'i' or ch == 'o' or\n",
        "            ch == 'u')"
      ],
      "metadata": {
        "id": "5UqoTD0k_aJ_"
      },
      "execution_count": null,
      "outputs": []
    },
    {
      "cell_type": "code",
      "source": [
        "def last_letter_is_vowel(name):\n",
        "  vowels = np.array(['a', 'e', 'i', 'o', 'u', 'y'])\n",
        "  if name[-1].lower() in vowels:\n",
        "        return 1*True\n",
        "  else:\n",
        "        return 1*False\n"
      ],
      "metadata": {
        "id": "yrrgcwWr4m9Y"
      },
      "execution_count": null,
      "outputs": []
    },
    {
      "cell_type": "code",
      "source": [
        "last_vowel_array = np.vectorize(last_letter_is_vowel)"
      ],
      "metadata": {
        "id": "fP4FJ3HAxtsa"
      },
      "execution_count": null,
      "outputs": []
    },
    {
      "cell_type": "code",
      "source": [
        "np.sum(last_vowel_array(names), axis=0)"
      ],
      "metadata": {
        "colab": {
          "base_uri": "https://localhost:8080/"
        },
        "id": "IQaKVcls4Nbn",
        "outputId": "2dc2c51d-d4c0-4634-96fb-d572d84e9f58"
      },
      "execution_count": null,
      "outputs": [
        {
          "output_type": "execute_result",
          "data": {
            "text/plain": [
              "4"
            ]
          },
          "metadata": {},
          "execution_count": 242
        }
      ]
    },
    {
      "cell_type": "code",
      "source": [
        "last_letter_is_vowel('Elena')"
      ],
      "metadata": {
        "id": "lmzgFcQ6_Yui",
        "colab": {
          "base_uri": "https://localhost:8080/"
        },
        "outputId": "e57b41cd-5301-482e-b687-c30d2b6bd474"
      },
      "execution_count": null,
      "outputs": [
        {
          "output_type": "execute_result",
          "data": {
            "text/plain": [
              "1"
            ]
          },
          "metadata": {},
          "execution_count": 236
        }
      ]
    },
    {
      "cell_type": "code",
      "source": [
        "last_letter_is_vowel('jeff')"
      ],
      "metadata": {
        "colab": {
          "base_uri": "https://localhost:8080/"
        },
        "id": "BpLvCeDa5S_m",
        "outputId": "a5b42d39-e2fd-46fc-c324-48c698004632"
      },
      "execution_count": null,
      "outputs": [
        {
          "output_type": "execute_result",
          "data": {
            "text/plain": [
              "0"
            ]
          },
          "metadata": {},
          "execution_count": 237
        }
      ]
    },
    {
      "cell_type": "code",
      "source": [
        "def last_letter(x):\n",
        "  return x[len(x)-1]"
      ],
      "metadata": {
        "id": "dVWnZUmr-j2s"
      },
      "execution_count": null,
      "outputs": []
    },
    {
      "cell_type": "code",
      "source": [
        "last_letter('Elena')"
      ],
      "metadata": {
        "colab": {
          "base_uri": "https://localhost:8080/",
          "height": 37
        },
        "id": "R7hrAdqoQ3bp",
        "outputId": "34e5b0aa-e457-460e-ad23-0c355a2be171"
      },
      "execution_count": null,
      "outputs": [
        {
          "output_type": "execute_result",
          "data": {
            "text/plain": [
              "'a'"
            ],
            "application/vnd.google.colaboratory.intrinsic+json": {
              "type": "string"
            }
          },
          "metadata": {},
          "execution_count": 216
        }
      ]
    },
    {
      "cell_type": "code",
      "source": [
        "ch = last_letter('Elena')"
      ],
      "metadata": {
        "id": "0topA2YpRAN0"
      },
      "execution_count": null,
      "outputs": []
    },
    {
      "cell_type": "code",
      "source": [
        "isVowel(ch)"
      ],
      "metadata": {
        "colab": {
          "base_uri": "https://localhost:8080/"
        },
        "id": "kNwDZkn2RE9g",
        "outputId": "fc981194-fc6b-4eb1-9db0-22abf09800a9"
      },
      "execution_count": null,
      "outputs": [
        {
          "output_type": "execute_result",
          "data": {
            "text/plain": [
              "1"
            ]
          },
          "metadata": {},
          "execution_count": 218
        }
      ]
    },
    {
      "cell_type": "code",
      "source": [
        "isVowel(last_letter('Jeff'))"
      ],
      "metadata": {
        "colab": {
          "base_uri": "https://localhost:8080/"
        },
        "id": "Va6r6jyeRG3H",
        "outputId": "e1b3a608-3939-49dc-9450-137279156b32"
      },
      "execution_count": null,
      "outputs": [
        {
          "output_type": "execute_result",
          "data": {
            "text/plain": [
              "0"
            ]
          },
          "metadata": {},
          "execution_count": 219
        }
      ]
    },
    {
      "cell_type": "code",
      "source": [
        "def last_vowel(x):\n",
        "    return isVowel(last_letter(x))"
      ],
      "metadata": {
        "id": "uqIhSv0sRebP"
      },
      "execution_count": null,
      "outputs": []
    },
    {
      "cell_type": "code",
      "source": [
        "last_vowel_array(names)"
      ],
      "metadata": {
        "colab": {
          "base_uri": "https://localhost:8080/"
        },
        "id": "K9LQR_z74Crx",
        "outputId": "427f920f-e16f-4497-ecec-d158e282e921"
      },
      "execution_count": null,
      "outputs": [
        {
          "output_type": "execute_result",
          "data": {
            "text/plain": [
              "array([1, 1, 1, 1, 0, 0, 0])"
            ]
          },
          "metadata": {},
          "execution_count": 228
        }
      ]
    },
    {
      "cell_type": "code",
      "source": [
        "def bin_function(x):\n",
        "  y = np.array(x, dtype=str)\n",
        "  l = []\n",
        "  for i in y:\n",
        "    index = ord(i)\n",
        "    np.append(l, last_vowel(i))"
      ],
      "metadata": {
        "id": "3y1MrpNnR70Z"
      },
      "execution_count": null,
      "outputs": []
    },
    {
      "cell_type": "code",
      "source": [
        "print(bin_function(names))"
      ],
      "metadata": {
        "id": "_InLrU52SKKy",
        "colab": {
          "base_uri": "https://localhost:8080/"
        },
        "outputId": "08bdc3e6-c822-421c-8016-0621380d5c32"
      },
      "execution_count": null,
      "outputs": [
        {
          "output_type": "stream",
          "name": "stdout",
          "text": [
            "None\n"
          ]
        }
      ]
    },
    {
      "cell_type": "code",
      "source": [
        "x = np.array(names, dtype=str)\n",
        "print(x)"
      ],
      "metadata": {
        "colab": {
          "base_uri": "https://localhost:8080/"
        },
        "id": "8jZYWvuDTiJG",
        "outputId": "ea7b5745-bbfd-42fd-cdf5-03dd67225a7f"
      },
      "execution_count": null,
      "outputs": [
        {
          "output_type": "stream",
          "name": "stdout",
          "text": [
            "['Natalia' 'Anastasia' 'Emilia' 'Marie' 'Jonas' 'Jordan' 'Brett']\n"
          ]
        }
      ]
    },
    {
      "cell_type": "code",
      "source": [
        "list = np.empty(len(names))\n",
        "print(list)"
      ],
      "metadata": {
        "id": "dJsOCUpwTltW",
        "colab": {
          "base_uri": "https://localhost:8080/"
        },
        "outputId": "18fc7e8e-64b2-499c-95ed-6534b2e9179d"
      },
      "execution_count": null,
      "outputs": [
        {
          "output_type": "stream",
          "name": "stdout",
          "text": [
            "[0. 0. 0. 0. 0. 0. 0.]\n"
          ]
        }
      ]
    },
    {
      "cell_type": "code",
      "source": [
        "list = np.empty(len(names))\n",
        "\n"
      ],
      "metadata": {
        "id": "aO74f2qupUkY"
      },
      "execution_count": null,
      "outputs": []
    },
    {
      "cell_type": "code",
      "source": [
        "np.insert(arr = list, obj = 0, values = last_vowel('Elena'), axis = 0)"
      ],
      "metadata": {
        "colab": {
          "base_uri": "https://localhost:8080/"
        },
        "id": "BR4oTODIcVzB",
        "outputId": "c94e2b52-c788-4e1a-8b1d-0c81b6439f1c"
      },
      "execution_count": null,
      "outputs": [
        {
          "output_type": "execute_result",
          "data": {
            "text/plain": [
              "array([1, 0, 0, 0, 0, 0, 0, 0])"
            ]
          },
          "metadata": {},
          "execution_count": 145
        }
      ]
    },
    {
      "cell_type": "code",
      "source": [
        "zeros = np.zeros(len(names), dtype=int)\n",
        "print(zeros)\n"
      ],
      "metadata": {
        "colab": {
          "base_uri": "https://localhost:8080/"
        },
        "id": "eZiSO5lXcrFO",
        "outputId": "52940b38-e21d-480e-8806-e29ca9b24c36"
      },
      "execution_count": null,
      "outputs": [
        {
          "output_type": "stream",
          "name": "stdout",
          "text": [
            "[0 0 0 0 0 0 0]\n"
          ]
        }
      ]
    },
    {
      "cell_type": "code",
      "source": [
        "list = np.array(names)\n",
        "print(list)"
      ],
      "metadata": {
        "colab": {
          "base_uri": "https://localhost:8080/"
        },
        "id": "K-DC-2vLe5oY",
        "outputId": "84bcd4e7-fc0c-4b48-dc7d-47c7af47fb13"
      },
      "execution_count": null,
      "outputs": [
        {
          "output_type": "stream",
          "name": "stdout",
          "text": [
            "['Natalia' 'Anastasia' 'Emilia' 'Marie' 'Jonas' 'Jordan' 'Brett']\n"
          ]
        }
      ]
    },
    {
      "cell_type": "code",
      "source": [
        "np.insert(arr = list, obj = 0, values = last_vowel(list[0]), axis = 0)"
      ],
      "metadata": {
        "colab": {
          "base_uri": "https://localhost:8080/"
        },
        "id": "ct4fSmyklra-",
        "outputId": "6395a0ee-3d05-4fde-989d-c23288b2757f"
      },
      "execution_count": null,
      "outputs": [
        {
          "output_type": "execute_result",
          "data": {
            "text/plain": [
              "array(['1', 'Natalia', 'Anastasia', 'Emilia', 'Marie', 'Jonas', 'Jordan',\n",
              "       'Brett'], dtype='<U9')"
            ]
          },
          "metadata": {},
          "execution_count": 160
        }
      ]
    },
    {
      "cell_type": "code",
      "source": [
        "print(np.append(list, last_vowel(list[0])))"
      ],
      "metadata": {
        "colab": {
          "base_uri": "https://localhost:8080/"
        },
        "id": "q3hi6sODklkS",
        "outputId": "02b5ae80-8c82-4312-ba0a-ca7155694e3e"
      },
      "execution_count": null,
      "outputs": [
        {
          "output_type": "stream",
          "name": "stdout",
          "text": [
            "['Natalia' 'Anastasia' 'Emilia' 'Marie' 'Jonas' 'Jordan' 'Brett' '1']\n"
          ]
        }
      ]
    },
    {
      "cell_type": "code",
      "source": [],
      "metadata": {
        "id": "wmFcCXzIm930"
      },
      "execution_count": null,
      "outputs": []
    },
    {
      "cell_type": "code",
      "source": [
        "import sys\n",
        "sys.path.append('/home/codio/workspace/.guides/hf')\n",
        "from helper import *\n",
        "\n",
        "import numpy as np\n",
        "import pandas as pd\n",
        "import seaborn as sns\n",
        "import matplotlib.pyplot as plt\n",
        "\n",
        "%matplotlib inline\n",
        "print('You\\'re running python %s' % sys.version.split(' ')[0])"
      ],
      "metadata": {
        "colab": {
          "base_uri": "https://localhost:8080/"
        },
        "id": "cM-CkCJ1CZkB",
        "outputId": "01a06586-6960-4a86-91ff-533c761141c9"
      },
      "execution_count": null,
      "outputs": [
        {
          "output_type": "stream",
          "name": "stdout",
          "text": [
            "You're running python 3.9.16\n"
          ]
        }
      ]
    },
    {
      "cell_type": "markdown",
      "source": [
        "# **The hashfeatures and name2features Functions**\n",
        "\n",
        "Below, the hashfeatures and name2features functions will take the plain text names and convert them to binary feature vectors (vectors with 0s and 1s) so that you'll be able to work with the data effectively.\n",
        "\n",
        "**Converting non-numeric training data to numeric vectors**\n",
        "\n",
        "The hashfeatures function relies on Python's inbuilt hash function, which converts any data type in Python to a large integer. The hash function ensures that the same objects have the same hash output in a single Python session. Across different Python sessions, you can ensure hash outputs the same integer for the same objects by seeding it.\n",
        "\n",
        "In our case, hash will convert string objects to integers, which we will \"truncate\" to our desired dimension d.\n",
        "\n",
        "hashfeatures has been implemented for you. It works as follows: It splits the baby name FIX times such that split 0 < m <= FIX gives 2 strings. The first is a prefix of baby of length m and the second is the suffix of baby of length m.\n",
        "\n",
        "For example, with debug=True, calling hashfeatures on Addisyn with d=128 and FIX=3 will give strings:\n",
        "\n",
        "(A>, <n)\n",
        "\n",
        "(Ad>, <yn)\n",
        "\n",
        "(Add>, <syn)\n",
        "\n",
        "Let's call each split's output (prefix, suffix). hashfeatures then converts both prefix and suffix to large integers P and S using hash. However, since we need a binary feature vector of d dimensions, hashfeatures takes the remainder of P and S with d, and sets the (P % d)th and (S % d)th dimensions of the feature vector to 1.\n",
        "\n",
        "We define the hashfeatures function to output binary vectors, but they need not be binary; they can also have floating point values. In the Challenge section later in this assignment, you will be able to try your own name2features function to improve the model's performance."
      ],
      "metadata": {
        "id": "1k3b8xPLC9rJ"
      }
    },
    {
      "cell_type": "code",
      "source": [
        "def hashfeatures(baby, d, FIX, debug=False):\n",
        "    \"\"\"\n",
        "    Input:\n",
        "        baby : a string representing the baby's name to be hashed\n",
        "        d: the number of dimensions to be in the feature vector\n",
        "        FIX: the number of chunks to extract and hash from each string\n",
        "        debug: a bool for printing debug values (default False)\n",
        "\n",
        "    Output:\n",
        "        v: a feature vector representing the input string\n",
        "    \"\"\"\n",
        "    v = np.zeros(d)\n",
        "    for m in range(1, FIX+1):\n",
        "        prefix = baby[:m] + \">\"\n",
        "        P = hash(prefix) % d\n",
        "        v[P] = 1\n",
        "\n",
        "        suffix = \"<\" + baby[-m:]\n",
        "        S = hash(suffix) % d\n",
        "        v[S] = 1\n",
        "\n",
        "        if debug:\n",
        "            print(f\"Split {m}/{FIX}:\\t({prefix}, {suffix}),\\t1s at indices [{P}, {S}]\")\n",
        "    if debug:\n",
        "        print(f\"Feature vector for {baby}:\\n{v.astype(int)}\\n\")\n",
        "    return v"
      ],
      "metadata": {
        "id": "ODeY4FQeDTmG"
      },
      "execution_count": null,
      "outputs": []
    },
    {
      "cell_type": "markdown",
      "source": [
        "# **Changing hashfeatures arguments**\n",
        "\n",
        "**Changing d**\n",
        "\n",
        "It is likely that different strings get hashed to different numbers, but trigger the same dimension in the feature vector to be 1, thus causing collisions. This is because the length of our feature vector d is generally much smaller than the magnitudes of hash outputs. We can reduce the number of collisions by increasing d and reducing the likelihood of P % d or S % d for different strings being equal. If FIX is left unchanged, then short baby names will trigger fewer dimensions of this longer feature vector, resulting in sparsity. Although the resulting vectors are more expressive, we will likely face the curse of dimensionality if we carelessly increase d. Moreover, if the model is also expressive enough, expressive feature vectors often result in model overfitting: model not generalizing well to unseen test data because it fits training data almost too well.\n",
        "\n",
        "On the other hand, reducing d causes the number of collisions to generally increase by increasing the likelihood of P % d or S % d of different strings to be equal. This creates dense vectors that are not very expressive (feature vectors for different baby names will start having 1s in the same dimensions as d decreases). When feature vectors are not very expressive, it becomes difficult for models to learn classification boundaries between different classes, causing model underfitting: model not generalizing well to unseen test data because it cannot learn decision boundaries effectively.\n",
        "\n",
        "**Changing FIX**\n",
        "\n",
        "On the lines of overfitting and underfitting, take some time and think what the effect of changing FIX will be on feature vector density, and possibly model performance down-the-road.\n",
        "\n",
        "In the trivial case, we do not want FIX to be very large. If FIX is larger than the length of baby name, then we will be running the loop in hashfeatures for extra iterations but computing the same prefixes and suffixes (running Max with FIX=5 will give (Max>, <Max) for iterations m=3 onwards.\n",
        "\n",
        "The non-trivial case is when FIX is generally smaller than lengths of most baby names. FIX=1 will only split once and give sparse feature vectors if d is reasonably large, whereas FIX=5 will split 5 times and give denser vectors.\n",
        "\n",
        "Let's test hashfeatures on a few examples, varying baby, d, and FIX."
      ],
      "metadata": {
        "id": "fM2LbyiDE-7b"
      }
    },
    {
      "cell_type": "code",
      "source": [
        "v = hashfeatures(\"Addisyn\", d=128, FIX=3, debug=True)\n",
        "v = hashfeatures(\"Addisyn\", d=4, FIX=3, debug=True)\n",
        "v = hashfeatures(\"Addisyn\", d=128, FIX=7, debug=True)\n",
        "v = hashfeatures(\"Max\", d=128, FIX=4, debug=True)"
      ],
      "metadata": {
        "id": "Y9uw_o1SHQib",
        "colab": {
          "base_uri": "https://localhost:8080/"
        },
        "outputId": "c9cf2021-68df-4429-da80-601b2f2c31c6"
      },
      "execution_count": null,
      "outputs": [
        {
          "output_type": "stream",
          "name": "stdout",
          "text": [
            "Split 1/3:\t(A>, <n),\t1s at indices [56, 9]\n",
            "Split 2/3:\t(Ad>, <yn),\t1s at indices [77, 84]\n",
            "Split 3/3:\t(Add>, <syn),\t1s at indices [75, 34]\n",
            "Feature vector for Addisyn:\n",
            "[0 0 0 0 0 0 0 0 0 1 0 0 0 0 0 0 0 0 0 0 0 0 0 0 0 0 0 0 0 0 0 0 0 0 1 0 0\n",
            " 0 0 0 0 0 0 0 0 0 0 0 0 0 0 0 0 0 0 0 1 0 0 0 0 0 0 0 0 0 0 0 0 0 0 0 0 0\n",
            " 0 1 0 1 0 0 0 0 0 0 1 0 0 0 0 0 0 0 0 0 0 0 0 0 0 0 0 0 0 0 0 0 0 0 0 0 0\n",
            " 0 0 0 0 0 0 0 0 0 0 0 0 0 0 0 0 0]\n",
            "\n",
            "Split 1/3:\t(A>, <n),\t1s at indices [0, 1]\n",
            "Split 2/3:\t(Ad>, <yn),\t1s at indices [1, 0]\n",
            "Split 3/3:\t(Add>, <syn),\t1s at indices [3, 2]\n",
            "Feature vector for Addisyn:\n",
            "[1 1 1 1]\n",
            "\n",
            "Split 1/7:\t(A>, <n),\t1s at indices [56, 9]\n",
            "Split 2/7:\t(Ad>, <yn),\t1s at indices [77, 84]\n",
            "Split 3/7:\t(Add>, <syn),\t1s at indices [75, 34]\n",
            "Split 4/7:\t(Addi>, <isyn),\t1s at indices [46, 33]\n",
            "Split 5/7:\t(Addis>, <disyn),\t1s at indices [99, 105]\n",
            "Split 6/7:\t(Addisy>, <ddisyn),\t1s at indices [37, 113]\n",
            "Split 7/7:\t(Addisyn>, <Addisyn),\t1s at indices [119, 39]\n",
            "Feature vector for Addisyn:\n",
            "[0 0 0 0 0 0 0 0 0 1 0 0 0 0 0 0 0 0 0 0 0 0 0 0 0 0 0 0 0 0 0 0 0 1 1 0 0\n",
            " 1 0 1 0 0 0 0 0 0 1 0 0 0 0 0 0 0 0 0 1 0 0 0 0 0 0 0 0 0 0 0 0 0 0 0 0 0\n",
            " 0 1 0 1 0 0 0 0 0 0 1 0 0 0 0 0 0 0 0 0 0 0 0 0 0 1 0 0 0 0 0 1 0 0 0 0 0\n",
            " 0 0 1 0 0 0 0 0 1 0 0 0 0 0 0 0 0]\n",
            "\n",
            "Split 1/4:\t(M>, <x),\t1s at indices [105, 43]\n",
            "Split 2/4:\t(Ma>, <ax),\t1s at indices [105, 106]\n",
            "Split 3/4:\t(Max>, <Max),\t1s at indices [10, 91]\n",
            "Split 4/4:\t(Max>, <Max),\t1s at indices [10, 91]\n",
            "Feature vector for Max:\n",
            "[0 0 0 0 0 0 0 0 0 0 1 0 0 0 0 0 0 0 0 0 0 0 0 0 0 0 0 0 0 0 0 0 0 0 0 0 0\n",
            " 0 0 0 0 0 0 1 0 0 0 0 0 0 0 0 0 0 0 0 0 0 0 0 0 0 0 0 0 0 0 0 0 0 0 0 0 0\n",
            " 0 0 0 0 0 0 0 0 0 0 0 0 0 0 0 0 0 1 0 0 0 0 0 0 0 0 0 0 0 0 0 1 1 0 0 0 0\n",
            " 0 0 0 0 0 0 0 0 0 0 0 0 0 0 0 0 0]\n",
            "\n"
          ]
        }
      ]
    },
    {
      "cell_type": "markdown",
      "source": [
        "The key takeaway here is that the feature extraction process is highly tunable and will almost always impact model performance. While you may sometimes be able to manually select key features by perusing training data, it is often good practice to run multiple experiments with different approaches to define the set of features."
      ],
      "metadata": {
        "id": "Vwj5JPj2HSJB"
      }
    },
    {
      "cell_type": "code",
      "source": [
        "def name2features(filename, d=128, FIX=3, LoadFile=True, debug=False):\n",
        "    \"\"\"\n",
        "    Output:\n",
        "        X : n feature vectors of dimension d, (nxd)\n",
        "    \"\"\"\n",
        "    # read in baby names\n",
        "    if LoadFile:\n",
        "        with open(filename, 'r') as f:\n",
        "            babynames = [x.rstrip() for x in f.readlines() if len(x) > 0]\n",
        "    else:\n",
        "        babynames = filename.split('\\n')\n",
        "    n = len(babynames)\n",
        "    X = np.zeros((n, d))\n",
        "    for i in range(n):\n",
        "        X[i,:] = hashfeatures(babynames[i], d, FIX)\n",
        "    return (X, babynames) if debug else X"
      ],
      "metadata": {
        "id": "DERpGprQHX1q"
      },
      "execution_count": null,
      "outputs": []
    },
    {
      "cell_type": "markdown",
      "source": [
        "In the code cell above, name2features reads every name in the given file and converts it into a 128-dimensional feature vector by first assembling substrings (based on the parameter FIX), then hashing these assembled substrings and modifying the feature vector index (the modulo of the number of dimensions d) that corresponds to this hash value.\n",
        "\n",
        "More often than not, having a good understanding of the training data can help in training a good Machine Learning model. Let's check out the feature matrix visually. On the Y-axis are baby names, and on the X-axis are features for each baby name. The heatmap is white when the feature value is 1 and black otherwise.\n",
        "\n",
        "You will notice that certain feature indices are white for many baby names. What could be the reason?"
      ],
      "metadata": {
        "id": "6zVvJ4S8HcPh"
      }
    },
    {
      "cell_type": "code",
      "source": [
        "Xboys, namesBoys = name2features(\"boys.train\", d=128, FIX=3, debug=True)\n",
        "Xgirls, namesGirls = name2features(\"girls.train\", d=128, FIX=3, debug=True)\n",
        "X = np.concatenate([Xboys[:20], Xgirls[:20]], axis=0)\n",
        "\n",
        "plt.figure(figsize=(20, 8))\n",
        "ax = sns.heatmap(X.astype(int), cbar=False)\n",
        "ax.set_xlabel('feature indices')\n",
        "ax.set_ylabel('baby names')\n",
        "ticks = ax.set_yticks(np.arange(40, dtype=int))\n",
        "ticklabels = ax.set_yticklabels(namesBoys[:20] + namesGirls[:20])\n",
        "plt.show()"
      ],
      "metadata": {
        "id": "BZeY6Bh1HtlO",
        "colab": {
          "base_uri": "https://localhost:8080/",
          "height": 351
        },
        "outputId": "5a488b7a-bf62-4193-8149-ef4698eab051"
      },
      "execution_count": null,
      "outputs": [
        {
          "output_type": "error",
          "ename": "FileNotFoundError",
          "evalue": "ignored",
          "traceback": [
            "\u001b[0;31m---------------------------------------------------------------------------\u001b[0m",
            "\u001b[0;31mFileNotFoundError\u001b[0m                         Traceback (most recent call last)",
            "\u001b[0;32m<ipython-input-7-6f60a8ff6a89>\u001b[0m in \u001b[0;36m<module>\u001b[0;34m\u001b[0m\n\u001b[0;32m----> 1\u001b[0;31m \u001b[0mXboys\u001b[0m\u001b[0;34m,\u001b[0m \u001b[0mnamesBoys\u001b[0m \u001b[0;34m=\u001b[0m \u001b[0mname2features\u001b[0m\u001b[0;34m(\u001b[0m\u001b[0;34m\"boys.train\"\u001b[0m\u001b[0;34m,\u001b[0m \u001b[0md\u001b[0m\u001b[0;34m=\u001b[0m\u001b[0;36m128\u001b[0m\u001b[0;34m,\u001b[0m \u001b[0mFIX\u001b[0m\u001b[0;34m=\u001b[0m\u001b[0;36m3\u001b[0m\u001b[0;34m,\u001b[0m \u001b[0mdebug\u001b[0m\u001b[0;34m=\u001b[0m\u001b[0;32mTrue\u001b[0m\u001b[0;34m)\u001b[0m\u001b[0;34m\u001b[0m\u001b[0;34m\u001b[0m\u001b[0m\n\u001b[0m\u001b[1;32m      2\u001b[0m \u001b[0mXgirls\u001b[0m\u001b[0;34m,\u001b[0m \u001b[0mnamesGirls\u001b[0m \u001b[0;34m=\u001b[0m \u001b[0mname2features\u001b[0m\u001b[0;34m(\u001b[0m\u001b[0;34m\"girls.train\"\u001b[0m\u001b[0;34m,\u001b[0m \u001b[0md\u001b[0m\u001b[0;34m=\u001b[0m\u001b[0;36m128\u001b[0m\u001b[0;34m,\u001b[0m \u001b[0mFIX\u001b[0m\u001b[0;34m=\u001b[0m\u001b[0;36m3\u001b[0m\u001b[0;34m,\u001b[0m \u001b[0mdebug\u001b[0m\u001b[0;34m=\u001b[0m\u001b[0;32mTrue\u001b[0m\u001b[0;34m)\u001b[0m\u001b[0;34m\u001b[0m\u001b[0;34m\u001b[0m\u001b[0m\n\u001b[1;32m      3\u001b[0m \u001b[0mX\u001b[0m \u001b[0;34m=\u001b[0m \u001b[0mnp\u001b[0m\u001b[0;34m.\u001b[0m\u001b[0mconcatenate\u001b[0m\u001b[0;34m(\u001b[0m\u001b[0;34m[\u001b[0m\u001b[0mXboys\u001b[0m\u001b[0;34m[\u001b[0m\u001b[0;34m:\u001b[0m\u001b[0;36m20\u001b[0m\u001b[0;34m]\u001b[0m\u001b[0;34m,\u001b[0m \u001b[0mXgirls\u001b[0m\u001b[0;34m[\u001b[0m\u001b[0;34m:\u001b[0m\u001b[0;36m20\u001b[0m\u001b[0;34m]\u001b[0m\u001b[0;34m]\u001b[0m\u001b[0;34m,\u001b[0m \u001b[0maxis\u001b[0m\u001b[0;34m=\u001b[0m\u001b[0;36m0\u001b[0m\u001b[0;34m)\u001b[0m\u001b[0;34m\u001b[0m\u001b[0;34m\u001b[0m\u001b[0m\n\u001b[1;32m      4\u001b[0m \u001b[0;34m\u001b[0m\u001b[0m\n\u001b[1;32m      5\u001b[0m \u001b[0mplt\u001b[0m\u001b[0;34m.\u001b[0m\u001b[0mfigure\u001b[0m\u001b[0;34m(\u001b[0m\u001b[0mfigsize\u001b[0m\u001b[0;34m=\u001b[0m\u001b[0;34m(\u001b[0m\u001b[0;36m20\u001b[0m\u001b[0;34m,\u001b[0m \u001b[0;36m8\u001b[0m\u001b[0;34m)\u001b[0m\u001b[0;34m)\u001b[0m\u001b[0;34m\u001b[0m\u001b[0;34m\u001b[0m\u001b[0m\n",
            "\u001b[0;32m<ipython-input-6-750c9544da6b>\u001b[0m in \u001b[0;36mname2features\u001b[0;34m(filename, d, FIX, LoadFile, debug)\u001b[0m\n\u001b[1;32m      6\u001b[0m     \u001b[0;31m# read in baby names\u001b[0m\u001b[0;34m\u001b[0m\u001b[0;34m\u001b[0m\u001b[0m\n\u001b[1;32m      7\u001b[0m     \u001b[0;32mif\u001b[0m \u001b[0mLoadFile\u001b[0m\u001b[0;34m:\u001b[0m\u001b[0;34m\u001b[0m\u001b[0;34m\u001b[0m\u001b[0m\n\u001b[0;32m----> 8\u001b[0;31m         \u001b[0;32mwith\u001b[0m \u001b[0mopen\u001b[0m\u001b[0;34m(\u001b[0m\u001b[0mfilename\u001b[0m\u001b[0;34m,\u001b[0m \u001b[0;34m'r'\u001b[0m\u001b[0;34m)\u001b[0m \u001b[0;32mas\u001b[0m \u001b[0mf\u001b[0m\u001b[0;34m:\u001b[0m\u001b[0;34m\u001b[0m\u001b[0;34m\u001b[0m\u001b[0m\n\u001b[0m\u001b[1;32m      9\u001b[0m             \u001b[0mbabynames\u001b[0m \u001b[0;34m=\u001b[0m \u001b[0;34m[\u001b[0m\u001b[0mx\u001b[0m\u001b[0;34m.\u001b[0m\u001b[0mrstrip\u001b[0m\u001b[0;34m(\u001b[0m\u001b[0;34m)\u001b[0m \u001b[0;32mfor\u001b[0m \u001b[0mx\u001b[0m \u001b[0;32min\u001b[0m \u001b[0mf\u001b[0m\u001b[0;34m.\u001b[0m\u001b[0mreadlines\u001b[0m\u001b[0;34m(\u001b[0m\u001b[0;34m)\u001b[0m \u001b[0;32mif\u001b[0m \u001b[0mlen\u001b[0m\u001b[0;34m(\u001b[0m\u001b[0mx\u001b[0m\u001b[0;34m)\u001b[0m \u001b[0;34m>\u001b[0m \u001b[0;36m0\u001b[0m\u001b[0;34m]\u001b[0m\u001b[0;34m\u001b[0m\u001b[0;34m\u001b[0m\u001b[0m\n\u001b[1;32m     10\u001b[0m     \u001b[0;32melse\u001b[0m\u001b[0;34m:\u001b[0m\u001b[0;34m\u001b[0m\u001b[0;34m\u001b[0m\u001b[0m\n",
            "\u001b[0;31mFileNotFoundError\u001b[0m: [Errno 2] No such file or directory: 'boys.train'"
          ]
        }
      ]
    },
    {
      "cell_type": "markdown",
      "source": [
        "# **The genTrainFeatures Function**\n",
        "We have provided you with a python function genTrainFeatures, which transforms the names into features and loads them into memory."
      ],
      "metadata": {
        "id": "QDQ1IzhbH4Kr"
      }
    },
    {
      "cell_type": "code",
      "source": [
        "def genTrainFeatures(dimension=128):\n",
        "    \"\"\"\n",
        "    Input:\n",
        "        dimension: desired dimension of the features\n",
        "    Output:\n",
        "        X: n feature vectors of dimensionality d (nxd)\n",
        "        Y: n labels (-1 = girl, +1 = boy) (n)\n",
        "    \"\"\"\n",
        "\n",
        "    # Load in the data\n",
        "    Xgirls = name2features(\"girls.train\", d=dimension)\n",
        "    Xboys = name2features(\"boys.train\", d=dimension)\n",
        "    X = np.concatenate([Xgirls, Xboys])\n",
        "\n",
        "    # Generate Labels\n",
        "    Y = np.concatenate([-np.ones(len(Xgirls)), np.ones(len(Xboys))])\n",
        "\n",
        "    # shuffle data into random order\n",
        "    ii = np.random.permutation([i for i in range(len(Y))])\n",
        "\n",
        "    return X[ii, :], Y[ii]"
      ],
      "metadata": {
        "id": "2QnwULeMH9P8"
      },
      "execution_count": null,
      "outputs": []
    },
    {
      "cell_type": "markdown",
      "source": [
        "You can call the following command to return two vectors, one holding all the concatenated feature vectors and one holding the labels of all boys and girls names."
      ],
      "metadata": {
        "id": "Os-a1byKIJso"
      }
    },
    {
      "cell_type": "code",
      "source": [
        "X, Y = genTrainFeatures(128)\n",
        "print(f'Shape of training data: {X.shape}')\n",
        "print(f'X:\\n{X.astype(int)}')\n",
        "print(f'Y:\\n{Y.astype(int)}')"
      ],
      "metadata": {
        "id": "5QuJ0Uz1IE1Q",
        "colab": {
          "base_uri": "https://localhost:8080/",
          "height": 358
        },
        "outputId": "e9d0edd2-356b-42e1-a28a-db9f106fbf02"
      },
      "execution_count": null,
      "outputs": [
        {
          "output_type": "error",
          "ename": "FileNotFoundError",
          "evalue": "ignored",
          "traceback": [
            "\u001b[0;31m---------------------------------------------------------------------------\u001b[0m",
            "\u001b[0;31mFileNotFoundError\u001b[0m                         Traceback (most recent call last)",
            "\u001b[0;32m<ipython-input-9-35c1731bc00b>\u001b[0m in \u001b[0;36m<module>\u001b[0;34m\u001b[0m\n\u001b[0;32m----> 1\u001b[0;31m \u001b[0mX\u001b[0m\u001b[0;34m,\u001b[0m \u001b[0mY\u001b[0m \u001b[0;34m=\u001b[0m \u001b[0mgenTrainFeatures\u001b[0m\u001b[0;34m(\u001b[0m\u001b[0;36m128\u001b[0m\u001b[0;34m)\u001b[0m\u001b[0;34m\u001b[0m\u001b[0;34m\u001b[0m\u001b[0m\n\u001b[0m\u001b[1;32m      2\u001b[0m \u001b[0mprint\u001b[0m\u001b[0;34m(\u001b[0m\u001b[0;34mf'Shape of training data: {X.shape}'\u001b[0m\u001b[0;34m)\u001b[0m\u001b[0;34m\u001b[0m\u001b[0;34m\u001b[0m\u001b[0m\n\u001b[1;32m      3\u001b[0m \u001b[0mprint\u001b[0m\u001b[0;34m(\u001b[0m\u001b[0;34mf'X:\\n{X.astype(int)}'\u001b[0m\u001b[0;34m)\u001b[0m\u001b[0;34m\u001b[0m\u001b[0;34m\u001b[0m\u001b[0m\n\u001b[1;32m      4\u001b[0m \u001b[0mprint\u001b[0m\u001b[0;34m(\u001b[0m\u001b[0;34mf'Y:\\n{Y.astype(int)}'\u001b[0m\u001b[0;34m)\u001b[0m\u001b[0;34m\u001b[0m\u001b[0;34m\u001b[0m\u001b[0m\n",
            "\u001b[0;32m<ipython-input-8-5fabc5aeae49>\u001b[0m in \u001b[0;36mgenTrainFeatures\u001b[0;34m(dimension)\u001b[0m\n\u001b[1;32m      9\u001b[0m \u001b[0;34m\u001b[0m\u001b[0m\n\u001b[1;32m     10\u001b[0m     \u001b[0;31m# Load in the data\u001b[0m\u001b[0;34m\u001b[0m\u001b[0;34m\u001b[0m\u001b[0m\n\u001b[0;32m---> 11\u001b[0;31m     \u001b[0mXgirls\u001b[0m \u001b[0;34m=\u001b[0m \u001b[0mname2features\u001b[0m\u001b[0;34m(\u001b[0m\u001b[0;34m\"girls.train\"\u001b[0m\u001b[0;34m,\u001b[0m \u001b[0md\u001b[0m\u001b[0;34m=\u001b[0m\u001b[0mdimension\u001b[0m\u001b[0;34m)\u001b[0m\u001b[0;34m\u001b[0m\u001b[0;34m\u001b[0m\u001b[0m\n\u001b[0m\u001b[1;32m     12\u001b[0m     \u001b[0mXboys\u001b[0m \u001b[0;34m=\u001b[0m \u001b[0mname2features\u001b[0m\u001b[0;34m(\u001b[0m\u001b[0;34m\"boys.train\"\u001b[0m\u001b[0;34m,\u001b[0m \u001b[0md\u001b[0m\u001b[0;34m=\u001b[0m\u001b[0mdimension\u001b[0m\u001b[0;34m)\u001b[0m\u001b[0;34m\u001b[0m\u001b[0;34m\u001b[0m\u001b[0m\n\u001b[1;32m     13\u001b[0m     \u001b[0mX\u001b[0m \u001b[0;34m=\u001b[0m \u001b[0mnp\u001b[0m\u001b[0;34m.\u001b[0m\u001b[0mconcatenate\u001b[0m\u001b[0;34m(\u001b[0m\u001b[0;34m[\u001b[0m\u001b[0mXgirls\u001b[0m\u001b[0;34m,\u001b[0m \u001b[0mXboys\u001b[0m\u001b[0;34m]\u001b[0m\u001b[0;34m)\u001b[0m\u001b[0;34m\u001b[0m\u001b[0;34m\u001b[0m\u001b[0m\n",
            "\u001b[0;32m<ipython-input-6-750c9544da6b>\u001b[0m in \u001b[0;36mname2features\u001b[0;34m(filename, d, FIX, LoadFile, debug)\u001b[0m\n\u001b[1;32m      6\u001b[0m     \u001b[0;31m# read in baby names\u001b[0m\u001b[0;34m\u001b[0m\u001b[0;34m\u001b[0m\u001b[0m\n\u001b[1;32m      7\u001b[0m     \u001b[0;32mif\u001b[0m \u001b[0mLoadFile\u001b[0m\u001b[0;34m:\u001b[0m\u001b[0;34m\u001b[0m\u001b[0;34m\u001b[0m\u001b[0m\n\u001b[0;32m----> 8\u001b[0;31m         \u001b[0;32mwith\u001b[0m \u001b[0mopen\u001b[0m\u001b[0;34m(\u001b[0m\u001b[0mfilename\u001b[0m\u001b[0;34m,\u001b[0m \u001b[0;34m'r'\u001b[0m\u001b[0;34m)\u001b[0m \u001b[0;32mas\u001b[0m \u001b[0mf\u001b[0m\u001b[0;34m:\u001b[0m\u001b[0;34m\u001b[0m\u001b[0;34m\u001b[0m\u001b[0m\n\u001b[0m\u001b[1;32m      9\u001b[0m             \u001b[0mbabynames\u001b[0m \u001b[0;34m=\u001b[0m \u001b[0;34m[\u001b[0m\u001b[0mx\u001b[0m\u001b[0;34m.\u001b[0m\u001b[0mrstrip\u001b[0m\u001b[0;34m(\u001b[0m\u001b[0;34m)\u001b[0m \u001b[0;32mfor\u001b[0m \u001b[0mx\u001b[0m \u001b[0;32min\u001b[0m \u001b[0mf\u001b[0m\u001b[0;34m.\u001b[0m\u001b[0mreadlines\u001b[0m\u001b[0;34m(\u001b[0m\u001b[0;34m)\u001b[0m \u001b[0;32mif\u001b[0m \u001b[0mlen\u001b[0m\u001b[0;34m(\u001b[0m\u001b[0mx\u001b[0m\u001b[0;34m)\u001b[0m \u001b[0;34m>\u001b[0m \u001b[0;36m0\u001b[0m\u001b[0;34m]\u001b[0m\u001b[0;34m\u001b[0m\u001b[0;34m\u001b[0m\u001b[0m\n\u001b[1;32m     10\u001b[0m     \u001b[0;32melse\u001b[0m\u001b[0;34m:\u001b[0m\u001b[0;34m\u001b[0m\u001b[0;34m\u001b[0m\u001b[0m\n",
            "\u001b[0;31mFileNotFoundError\u001b[0m: [Errno 2] No such file or directory: 'girls.train'"
          ]
        }
      ]
    },
    {
      "cell_type": "code",
      "source": [
        "Shape of training data: (1200, 128)\n",
        "X:\n",
        "[[0 0 0 ... 0 0 0]\n",
        " [0 0 0 ... 0 0 0]\n",
        " [0 1 0 ... 0 1 0]\n",
        " ...\n",
        " [1 0 0 ... 0 0 1]\n",
        " [0 0 0 ... 1 0 0]\n",
        " [0 0 0 ... 0 0 0]]\n",
        "Y:\n",
        "[-1 -1  1 ...  1  1  1]"
      ],
      "metadata": {
        "id": "TjQ2AOykP96B"
      },
      "execution_count": null,
      "outputs": []
    },
    {
      "cell_type": "markdown",
      "source": [
        "Shape of X = (1200, 128)\n",
        "Shape of Y = (1, 1200)"
      ],
      "metadata": {
        "id": "q8a5FrHFP8af"
      }
    },
    {
      "cell_type": "markdown",
      "source": [
        "# **The Naïve Bayes Classifier **\n",
        "The Naïve Bayes classifier is a linear classifier based on Bayes Rule. The following cells will walk you through steps and ask you to finish the necessary functions in a pre-defined order. *As a general rule, you should avoid tight loops at all costs.*"
      ],
      "metadata": {
        "id": "93jg9MT1QkPG"
      }
    },
    {
      "cell_type": "markdown",
      "source": [
        "# **Part One: Class Probability**\n",
        "Estimate the class probability  𝑃(𝑦)\n",
        "  in naivebayesPY. This should return the probability that a sample in the training set is positive or negative, independent of its features."
      ],
      "metadata": {
        "id": "yDijTcakQzDK"
      }
    },
    {
      "cell_type": "code",
      "source": [
        "X = np.array([[0,1,1,0,1],\n",
        "            [1,0,0,1,0],\n",
        "            [1,1,1,1,0],\n",
        "            [0,1,1,0,1],\n",
        "            [1,0,1,0,0],\n",
        "            [0,0,1,0,0],\n",
        "            [1,1,1,0,1]])\n",
        "\n",
        "Y = np.array([1,-1, 1, 1,-1,-1, 1])"
      ],
      "metadata": {
        "id": "UlF32jrWWx0a"
      },
      "execution_count": null,
      "outputs": []
    },
    {
      "cell_type": "code",
      "source": [
        "def naivebayesPY(X, Y):\n",
        "    \"\"\"\n",
        "    naivebayesPY(X, Y) returns [pos,neg]\n",
        "\n",
        "    Computation of P(Y)\n",
        "    Input:\n",
        "        X : n input vectors of d dimensions (nxd)\n",
        "        Y : n labels (-1 or +1) (n)\n",
        "\n",
        "    Output:\n",
        "        pos: probability p(y=1)\n",
        "        neg: probability p(y=-1)\n",
        "    \"\"\"\n",
        "\n",
        "    # add one positive and negative example to avoid division by zero (\"plus-one smoothing\")\n",
        "    Y = np.concatenate([Y, [-1,1]])\n",
        "    n = len(Y)\n",
        "\n",
        "    return [np.sum(Y == 1)/n, np.sum(Y == -1)/n]\n",
        "\n",
        "    raise NotImplementedError()"
      ],
      "metadata": {
        "id": "ChUEIpVHQ5WL"
      },
      "execution_count": null,
      "outputs": []
    },
    {
      "cell_type": "code",
      "source": [
        "naivebayesPY(X,Y)"
      ],
      "metadata": {
        "colab": {
          "base_uri": "https://localhost:8080/"
        },
        "id": "xjNB2fi0XPmw",
        "outputId": "e5c8b467-1871-47d2-ede8-974c2730490c"
      },
      "execution_count": null,
      "outputs": [
        {
          "output_type": "execute_result",
          "data": {
            "text/plain": [
              "[0.5555555555555556, 0.4444444444444444]"
            ]
          },
          "metadata": {},
          "execution_count": 7
        }
      ]
    },
    {
      "cell_type": "markdown",
      "source": [
        "Introducing Laplace smooothing does not match the output expected in tests below anymore - why?\n",
        "\n",
        "But it works with\n",
        "\n",
        "np.sum(Y == 1)/n, np.sum(Y == -1)/n"
      ],
      "metadata": {
        "id": "PTv3wtFRt8YK"
      }
    },
    {
      "cell_type": "code",
      "source": [
        "# The following tests will check that the probabilities returned by your function sum to 1 (test1) and return the correct probabilities for a given set of input vectors (tests 2-4)\n",
        "\n",
        "# Check that probabilities sum to 1\n",
        "def naivebayesPY_test1():\n",
        "    pos, neg = naivebayesPY(X,Y)\n",
        "    return np.linalg.norm(pos + neg - 1) < 1e-5\n",
        "\n",
        "# Test the Naive Bayes PY function on a simple example\n",
        "def naivebayesPY_test2():\n",
        "    x = np.array([[0,1],[1,0]])\n",
        "    y = np.array([-1,1])\n",
        "    pos, neg = naivebayesPY(x,y)\n",
        "    pos0, neg0 = .5, .5\n",
        "    test = np.linalg.norm(pos - pos0) + np.linalg.norm(neg - neg0)\n",
        "    return test < 1e-5\n",
        "\n",
        "# Test the Naive Bayes PY function on another example\n",
        "def naivebayesPY_test3():\n",
        "        x = np.array([[0,1,1,0,1],\n",
        "            [1,0,0,1,0],\n",
        "            [1,1,1,1,0],\n",
        "            [0,1,1,0,1],\n",
        "            [1,0,1,0,0],\n",
        "            [0,0,1,0,0],\n",
        "            [1,1,1,0,1]])\n",
        "        y = np.array([1,-1, 1, 1,-1,-1, 1])\n",
        "        pos, neg = naivebayesPY(x,y)\n",
        "        pos0, neg0 = 5/9., 4/9.\n",
        "        test = np.linalg.norm(pos - pos0) + np.linalg.norm(neg - neg0)\n",
        "        return test < 1e-5\n",
        "\n",
        "# Tests plus-one smoothing\n",
        "def naivebayesPY_test4():\n",
        "    x = np.array([[0,1,1,0,1],[1,0,0,1,0]])\n",
        "    y = np.array([1,1])\n",
        "    pos, neg = naivebayesPY(x,y)\n",
        "    pos0, neg0 = 3/4., 1/4.\n",
        "    test = np.linalg.norm(pos - pos0) + np.linalg.norm(neg - neg0)\n",
        "    return test < 1e-5"
      ],
      "metadata": {
        "id": "sDK8YjlPtPah"
      },
      "execution_count": null,
      "outputs": []
    },
    {
      "cell_type": "markdown",
      "source": [
        "# **Part Two: Conditional Probability**\n",
        "Estimate the conditional probabilities  𝑃([𝐱]𝛼=1|𝑌=𝑦)\n",
        "  in naivebayesPXY. Notice that by construction, our features are binary categorical features. Use a **categorical** distribution as model and return the probability vectors for each feature being 1 given a class label. Note that the result will be two vectors of length d (the number of features), where the values represent the probability that feature i is equal to 1.\n",
        "\n",
        "Here we compute the fraction of counts that a feature is hot or not ( [𝐱]𝛼=1\n",
        "  or  [𝐱]𝛼=0\n",
        " ) conditioned on gender. For example, if  [𝐱]1=[1,0,1,0,1]\n",
        "  and  𝑌=[1,1,1,1,−1]\n",
        "  (boy= 1\n",
        "  and girl= −1\n",
        " ), then  𝑃([𝐱]1=1|𝑌=1)=(1+0+1+0)/4=0.5\n",
        "  and  𝑃([𝐱]1=1|𝑌=−1)=(1)/1=1\n",
        " . You need to compute this for each dimension 0 <= i < d for each gender."
      ],
      "metadata": {
        "id": "dZ4qeVJFvBS9"
      }
    },
    {
      "cell_type": "code",
      "source": [
        "def naivebayesPXY(X,Y): #incorrect\n",
        "    \"\"\"\n",
        "    naivebayesPXY(X, Y) returns [posprob,negprob]\n",
        "\n",
        "    Input:\n",
        "        X : n input vectors of d dimensions (nxd)\n",
        "        Y : n labels (-1 or +1) (n)\n",
        "\n",
        "    Output:\n",
        "        posprob: probability vector of p(x_alpha = 1|y=1)  (d)\n",
        "        negprob: probability vector of p(x_alpha = 1|y=-1) (d)\n",
        "    \"\"\"\n",
        "\n",
        "    # add one positive and negative example to avoid division by zero (\"plus-one smoothing\")\n",
        "    n, d = X.shape\n",
        "    X = np.concatenate([X, np.ones((2,d)), np.zeros((2,d))])\n",
        "    Y = np.concatenate([Y, [-1,1,-1,1]])\n",
        "    X_boys = X[Y == 1]\n",
        "    X_girls = X[Y == -1]\n",
        "\n",
        "    for i in range(0, X.shape[1]):\n",
        "\n",
        "      #sum of 1s at feature i across all boy names\n",
        "      posprob = np.vectorize((np.sum(X_boys[:,i] == 1))/ X_boys.shape[0])\n",
        "\n",
        "      #sum of 1s at feature i across all girl names\n",
        "      negprob = np.vectorize((np.sum(X_girls[:,i] == 1))/ X_girls.shape[0])\n",
        "\n",
        "    return [posprob, negprob]\n",
        "\n",
        "    raise NotImplementedError()"
      ],
      "metadata": {
        "id": "XPzI3wlEvmg_"
      },
      "execution_count": null,
      "outputs": []
    },
    {
      "cell_type": "markdown",
      "source": [
        "**Possible error: **\n",
        "\n",
        "Certainly! It sounds like you're dealing with a NumPy error related to the type of the objects you're passing into a function.\n",
        "\n",
        "The error message you provided suggests that you might be passing a NumPy vectorized function or a list containing NumPy vectorized functions to a function that doesn't support those types of objects.\n",
        "\n",
        "NumPy vectorized functions are functions that can apply element-wise operations on NumPy arrays. They can be created using the numpy.vectorize method, and can be very useful for performing operations on arrays without having to use loops.\n",
        "\n",
        "If you're passing a NumPy vectorized function to a function that doesn't support it, you might need to modify your code to handle the vectorized function differently. You could try applying the vectorized function to the inputs before passing them to the function, or you could modify the function to accept vectorized functions as arguments.\n",
        "\n",
        "Alternatively, if you're passing a list containing NumPy vectorized functions to a function, you might need to iterate over the list and apply each function to the inputs separately. Again, you could modify the function to accept a list of vectorized functions as an argument if that's what you need."
      ],
      "metadata": {
        "id": "SxRiniCERMsc"
      }
    },
    {
      "cell_type": "markdown",
      "source": [
        "here are a couple of issues with the code you posted:\n",
        "\n",
        "The vectorize function is being used incorrectly. The purpose of vectorize is to apply a scalar function to each element of a vectorized input. In this code, np.sum(X_boys[:,i] == 1) is already a scalar value, so wrapping it with np.vectorize() is not necessary. Instead, you can just call np.sum(X_boys[:,i] == 1) / X_boys.shape[0] directly.\n",
        "The return statement is inside the for loop, so the function will only iterate once before returning the results. You should move the return statement outside the loop, after the two probability vectors have been computed.\n",
        "There is an error in the input data preprocessing. The code adds four extra rows to X and Y, but it only needs to add two. Specifically, it should add one row for each class (positive and negative), rather than two rows for each class.\n",
        "Here is a corrected version of the code:"
      ],
      "metadata": {
        "id": "JTdXpEyDUrrb"
      }
    },
    {
      "cell_type": "code",
      "source": [
        "def naivebayesPXY(X,Y):\n",
        "    \"\"\"\n",
        "    naivebayesPXY(X, Y) returns [posprob,negprob] #list of arrays\n",
        "\n",
        "    Input:\n",
        "        X : n input vectors of d dimensions (nxd)\n",
        "        Y : n labels (-1 or +1) (n)\n",
        "\n",
        "    Output:\n",
        "        posprob: probability vector of p(x_alpha = 1|y=1)  (d)\n",
        "        negprob: probability vector of p(x_alpha = 1|y=-1) (d)\n",
        "    \"\"\"\n",
        "\n",
        "    # add one positive and negative example to avoid division by zero (\"plus-one smoothing\")\n",
        "    n, d = X.shape\n",
        "    X = np.concatenate([X, np.ones((1,d)), np.zeros((1,d))])\n",
        "    Y = np.concatenate([Y, [-1,1]])\n",
        "    X_boys = X[Y == 1]\n",
        "    X_girls = X[Y == -1]\n",
        "\n",
        "    posprob = np.zeros(d)\n",
        "    negprob = np.zeros(d)\n",
        "\n",
        "    for i in range(d):\n",
        "        # sum of 1s at feature i across all boy names\n",
        "        posprob[i] = np.sum(X_boys[:,i] == 1) / X_boys.shape[0]\n",
        "\n",
        "        # sum of 1s at feature i across all girl names\n",
        "        negprob[i] = np.sum(X_girls[:,i] == 1) / X_girls.shape[0]\n",
        "\n",
        "    return [posprob, negprob]\n",
        "\n",
        "    raise NotImplementedError()"
      ],
      "metadata": {
        "id": "O5qvWk00UtQh"
      },
      "execution_count": null,
      "outputs": []
    },
    {
      "cell_type": "code",
      "source": [
        "X_boys = X[Y == 1]\n",
        "print(X_boys)"
      ],
      "metadata": {
        "colab": {
          "base_uri": "https://localhost:8080/"
        },
        "id": "lhFe-GHTgqJj",
        "outputId": "da8a313a-0974-4d9c-e671-359591bb8bbf"
      },
      "execution_count": null,
      "outputs": [
        {
          "output_type": "stream",
          "name": "stdout",
          "text": [
            "[[0 1 1 0 1]\n",
            " [1 1 1 1 0]\n",
            " [0 1 1 0 1]\n",
            " [1 1 1 0 1]]\n"
          ]
        }
      ]
    },
    {
      "cell_type": "code",
      "source": [
        "naivebayesPXY(X,Y)"
      ],
      "metadata": {
        "colab": {
          "base_uri": "https://localhost:8080/",
          "height": 164
        },
        "id": "tSU9Z-6UYIqa",
        "outputId": "d71ef06b-76ed-4531-df27-5de36b39215a"
      },
      "execution_count": null,
      "outputs": [
        {
          "output_type": "error",
          "ename": "NameError",
          "evalue": "ignored",
          "traceback": [
            "\u001b[0;31m---------------------------------------------------------------------------\u001b[0m",
            "\u001b[0;31mNameError\u001b[0m                                 Traceback (most recent call last)",
            "\u001b[0;32m<ipython-input-9-de84e1bfec56>\u001b[0m in \u001b[0;36m<module>\u001b[0;34m\u001b[0m\n\u001b[0;32m----> 1\u001b[0;31m \u001b[0mnaivebayesPXY\u001b[0m\u001b[0;34m(\u001b[0m\u001b[0mX\u001b[0m\u001b[0;34m,\u001b[0m\u001b[0mY\u001b[0m\u001b[0;34m)\u001b[0m\u001b[0;34m\u001b[0m\u001b[0;34m\u001b[0m\u001b[0m\n\u001b[0m",
            "\u001b[0;31mNameError\u001b[0m: name 'naivebayesPXY' is not defined"
          ]
        }
      ]
    },
    {
      "cell_type": "markdown",
      "source": [
        "To avoid using a for loop\n",
        "\n",
        "In this version of the code, posprob and negprob are computed using np.sum() with axis=0 to sum across the rows (i.e., examples) and compute the fraction of 1s for each feature. This gives you the same results as the loop-based approach, but it should be faster for large datasets."
      ],
      "metadata": {
        "id": "DQV4TMTTVyI5"
      }
    },
    {
      "cell_type": "code",
      "source": [
        "def naivebayesPXY(X,Y):\n",
        "    \"\"\"\n",
        "    naivebayesPXY(X, Y) returns [posprob,negprob]\n",
        "\n",
        "    Input:\n",
        "        X : n input vectors of d dimensions (nxd)\n",
        "        Y : n labels (-1 or +1) (n)\n",
        "\n",
        "    Output:\n",
        "        posprob: probability vector of p(x_alpha = 1|y=1)  (d)\n",
        "        negprob: probability vector of p(x_alpha = 1|y=-1) (d)\n",
        "    \"\"\"\n",
        "\n",
        "    # add one positive and negative example to avoid division by zero (\"plus-one smoothing\")\n",
        "    n, d = X.shape\n",
        "    X = np.concatenate([X, np.ones((1,d)), np.zeros((1,d))])\n",
        "    Y = np.concatenate([Y, [-1,1]])\n",
        "    X_boys = X[Y == 1]\n",
        "    X_girls = X[Y == -1]\n",
        "\n",
        "    # compute probability vectors using vectorized operations\n",
        "    posprob = np.sum(X_boys, axis=0) / X_boys.shape[0]\n",
        "    negprob = np.sum(X_girls, axis=0) / X_girls.shape[0]\n",
        "\n",
        "    return [posprob, negprob]"
      ],
      "metadata": {
        "id": "ID7hjg9TVz-E"
      },
      "execution_count": null,
      "outputs": []
    },
    {
      "cell_type": "code",
      "source": [
        "naivebayesPXY(X,Y)"
      ],
      "metadata": {
        "colab": {
          "base_uri": "https://localhost:8080/"
        },
        "id": "gFEh8yhGWfQo",
        "outputId": "0ee0a3fa-0987-4dc6-ab4e-3102ccbca883"
      },
      "execution_count": null,
      "outputs": [
        {
          "output_type": "execute_result",
          "data": {
            "text/plain": [
              "[array([0.4, 0.8, 0.8, 0.2, 0.6]), array([0.75, 0.25, 0.75, 0.5 , 0.25])]"
            ]
          },
          "metadata": {},
          "execution_count": 11
        }
      ]
    },
    {
      "cell_type": "code",
      "source": [
        "posprob = naivebayesPXY(X,Y)[0]\n",
        "negprob = naivebayesPXY(X,Y)[1]"
      ],
      "metadata": {
        "id": "Kowtv2ogcg2Y"
      },
      "execution_count": null,
      "outputs": []
    },
    {
      "cell_type": "code",
      "source": [
        "naivebayesPXY(X,Y)[0].shape"
      ],
      "metadata": {
        "colab": {
          "base_uri": "https://localhost:8080/"
        },
        "id": "qYFnscxUYeaX",
        "outputId": "38073286-c4ba-41d0-f840-fe9d95ea8076"
      },
      "execution_count": null,
      "outputs": [
        {
          "output_type": "execute_result",
          "data": {
            "text/plain": [
              "(5,)"
            ]
          },
          "metadata": {},
          "execution_count": 13
        }
      ]
    },
    {
      "cell_type": "code",
      "source": [
        "np.reshape(naivebayesPXY(X,Y)[0],(5, 1))"
      ],
      "metadata": {
        "colab": {
          "base_uri": "https://localhost:8080/"
        },
        "id": "RI26NG_OZM_T",
        "outputId": "3e10eaf5-7bf7-40bb-9fec-d513e0c7f510"
      },
      "execution_count": null,
      "outputs": [
        {
          "output_type": "execute_result",
          "data": {
            "text/plain": [
              "array([[0.4],\n",
              "       [0.8],\n",
              "       [0.8],\n",
              "       [0.2],\n",
              "       [0.6]])"
            ]
          },
          "metadata": {},
          "execution_count": 31
        }
      ]
    },
    {
      "cell_type": "code",
      "source": [
        "np.reshape(naivebayesPXY(X,Y)[0],(1, 5))"
      ],
      "metadata": {
        "colab": {
          "base_uri": "https://localhost:8080/"
        },
        "id": "vff3iKniZ0Yr",
        "outputId": "b1328017-fa75-4e47-e095-3cacc28d9ea5"
      },
      "execution_count": null,
      "outputs": [
        {
          "output_type": "execute_result",
          "data": {
            "text/plain": [
              "array([[0.4, 0.8, 0.8, 0.2, 0.6]])"
            ]
          },
          "metadata": {},
          "execution_count": 32
        }
      ]
    },
    {
      "cell_type": "markdown",
      "source": [
        "# **Part Three: Log Likelihood**\n",
        "Calculate the log likelihood  log𝑃(𝐱|𝑌=𝑦)\n",
        "  for each point in X_test given label Y_test in loglikelihood.\n",
        "\n",
        "Recall\n",
        "Naïve Bayes assumption: the likelihood  𝑃(𝐱|𝑌=𝑦)\n",
        "  of a data point  𝐱\n",
        "  is equal to the product of the conditional probabilities of each feature  [𝐱]𝛼\n",
        "  having value  𝑥𝛼\n",
        " , i.e.,\n",
        "𝑃(𝐱|𝑌=𝑦)=∏𝛼=1𝑑𝑃([𝐱]𝛼=𝑥𝛼|𝑌=𝑦).\n",
        "\n",
        "For example, with  𝐱=[1,0,1]\n",
        "  and corresponding label  𝑌=1\n",
        " , you will calculate likelihood  𝑃(𝐱|𝑌=1)\n",
        "  as  𝑃([𝐱]1=1|𝑌=1)⋅𝑃([𝐱]2=0|𝑌=1)⋅𝑃([𝐱]3=1|𝑌=1)\n",
        " .\n",
        "\n",
        "Given probabilities:\n",
        "\n",
        "posprob vector:  𝑃([𝐱]𝛼=1|𝑌=1)\n",
        "\n",
        "negprob vector:  𝑃([𝐱]𝛼=1|𝑌=−1)\n",
        "\n",
        "Fact  log(𝑎𝑏)=log𝑎+log𝑏\n",
        " .\n",
        "\n",
        "To simplify your code, we recommend calculating log likelihoods for positive points ( 𝐱\n",
        "  with  𝑌=1\n",
        " ) and those for negative points separately."
      ],
      "metadata": {
        "id": "qqYW7WGDeV-L"
      }
    },
    {
      "cell_type": "code",
      "source": [
        "def loglikelihood(posprob, negprob, X_test, Y_test):\n",
        "    \"\"\"\n",
        "    loglikelihood(posprob, negprob, X_test, Y_test) returns loglikelihood of each point in X_test\n",
        "\n",
        "    Input:\n",
        "        posprob: conditional probabilities for the positive class (d)\n",
        "        negprob: conditional probabilities for the negative class (d)\n",
        "        X_test : features (nxd)\n",
        "        Y_test : labels (-1 or +1) (n)\n",
        "\n",
        "    Output:\n",
        "        loglikelihood of each point in X_test (n)\n",
        "    \"\"\"\n",
        "\n",
        "    X_test_boys = X_test[Y_test == 1]\n",
        "    X_test_girls = X_test[Y_test == -1]\n",
        "\n",
        "# for each feature a in X_test, if [x]a in X_test is 1, given it is a boy, multiply it with conditional probability posprob from training data. If it is a zero, multiply it by 1 - conditional probability posprob. Sum the two probabilities together. This should output a vector (d) of probabilities for that particular test point, given it is a boy\n",
        "\n",
        "# for each feature a in X_test, if [x]a in X_test is 1, given it is a girl, multiply it with conditional probability negprob from training data. If it is a zero, multiply it by 1 - conditional probability negprob. Sum the two probabilities together. This should output a vector (d) of probabilities for that particular test point, given it is a boy\n",
        "\n",
        "#log each nxd output matrix and sum across columns to obtain 1xn loglikelihood for each data point in X_test, given it either boys or girls\n",
        "\n",
        "    raise NotImplementedError()"
      ],
      "metadata": {
        "id": "Z-x-e4NQ_RnD"
      },
      "execution_count": null,
      "outputs": []
    },
    {
      "cell_type": "markdown",
      "source": [
        "You can avoid using a for loop by taking advantage of NumPy's array broadcasting and vectorization capabilities. Here's how you can modify the function to avoid using a for loop:\n",
        "\n",
        "Here, we use NumPy's multiply function to element-wise multiply X_test_boys and posprob, and then multiply the complement of X_test_boys and the complement of posprob. We then add these two arrays together to get the probabilities for each feature for the positive class. We repeat the same process for the negative class.\n",
        "\n",
        "We then use NumPy's log function to take the natural logarithm of each probability, and then sum across columns using np.sum to obtain the loglikelihood for each data point in X_test_boys and X_test_girls.\n",
        "\n",
        "Finally, we concatenate the loglikelihoods for boys and girls using np.concatenate to obtain the loglikelihood for each data point in X_test.\n",
        "\n",
        "Here, we use the argsort method in NumPy to obtain the indices that would sort Y_test. We then use these indices to reorder the loglikelihood array using array indexing. The resulting loglikelihood array will have the same order as the original X_test input.\n",
        "\n",
        "Note that this implementation assumes that posprob and negprob are 1D arrays of length d. If they are 2D arrays, you may need to modify the implementation accordingly."
      ],
      "metadata": {
        "id": "qMPUp8SKxYR_"
      }
    },
    {
      "cell_type": "markdown",
      "source": [
        "Error - Positive Logarithm outputs\n",
        "\n",
        "Positive logarithm outputs can occur when probabilities that are supposed to be between 0 and 1 are not properly computed or when the input values to the logarithm function are not within the appropriate range.\n",
        "\n",
        "Here are a few potential issues in the code that could be causing the positive logarithm outputs:\n",
        "\n",
        "Conditional probabilities outside the range [0, 1]: Check that the values of posprob and negprob are between 0 and 1. If they are not, then the conditional probabilities are not being properly calculated, which could lead to positive logarithm outputs.\n",
        "\n",
        "Incorrect multiplication of probabilities: Check that the multiplication of X_test with posprob and negprob is being performed correctly. If this calculation is incorrect, then the resulting probabilities may be greater than 1 or less than 0, which could lead to positive logarithm outputs.\n",
        "\n",
        "Inappropriate input values to the logarithm function: Check that the input values to the np.log function are within the appropriate range. The logarithm of values less than or equal to zero is undefined, so if any of the values are outside this range, you will get positive logarithm outputs."
      ],
      "metadata": {
        "id": "B73fly-54cn_"
      }
    },
    {
      "cell_type": "code",
      "source": [
        "def loglikelihood(posprob, negprob, X_test, Y_test):\n",
        "    \"\"\"\n",
        "    loglikelihood(posprob, negprob, X_test, Y_test) returns loglikelihood of each point in X_test\n",
        "\n",
        "    Input:\n",
        "        posprob: conditional probabilities for the positive class (d)\n",
        "        negprob: conditional probabilities for the negative class (d)\n",
        "        X_test : features (nxd)\n",
        "        Y_test : labels (-1 or +1) (n)\n",
        "\n",
        "    Output:\n",
        "        loglikelihood of each point in X_test (n)\n",
        "    \"\"\"\n",
        "\n",
        "    # Split X_test into boys and girls\n",
        "    X_test_boys = X_test[Y_test == 1]\n",
        "    X_test_girls = X_test[Y_test == -1]\n",
        "\n",
        "    # Calculate loglikelihood for boys\n",
        "    prob_boys = np.multiply(X_test_boys, posprob) + np.multiply(1 - X_test_boys, 1 - posprob)\n",
        "    logprob_boys = np.log(prob_boys)\n",
        "    loglikelihood_boys = np.sum(logprob_boys, axis=1)\n",
        "\n",
        "    # Calculate loglikelihood for girls\n",
        "    prob_girls = np.multiply(X_test_girls, negprob) + np.multiply(1 - X_test_girls, 1 - negprob)\n",
        "    logprob_girls = np.log(prob_girls)\n",
        "    loglikelihood_girls = np.sum(logprob_girls, axis=1)\n",
        "\n",
        "    # Combine loglikelihood for boys and girls\n",
        "    loglikelihood = np.concatenate((loglikelihood_boys, loglikelihood_girls))\n",
        "\n",
        "    # Reshuffle loglikelihood to match original order of data points in X_test\n",
        "    idx = np.argsort(Y_test) # get the indices that sort Y_test\n",
        "    loglikelihood = loglikelihood[idx] # reorder loglikelihood using the sorted indices\n",
        "\n",
        "    return loglikelihood\n",
        "\n",
        "    raise NotImplementedError()\n"
      ],
      "metadata": {
        "id": "zDwwB-6PxWcc"
      },
      "execution_count": null,
      "outputs": []
    },
    {
      "cell_type": "code",
      "source": [
        "loglikelihood(posprob, negprob, X, Y)"
      ],
      "metadata": {
        "colab": {
          "base_uri": "https://localhost:8080/"
        },
        "id": "CUhWaVLvaDTL",
        "outputId": "4f812e3c-f6ca-460d-e418-948b0ac90db6"
      },
      "execution_count": null,
      "outputs": [
        {
          "output_type": "execute_result",
          "data": {
            "text/plain": [
              "array([-3.88830648, -2.94248776, -1.84387547, -1.6910819 , -1.6910819 ,\n",
              "       -2.09654701, -2.94248776])"
            ]
          },
          "metadata": {},
          "execution_count": 15
        }
      ]
    },
    {
      "cell_type": "code",
      "source": [
        "X = np.array([[0,1,1,0,1],\n",
        "            [1,0,0,1,0],\n",
        "            [1,1,1,1,0],\n",
        "            [0,1,1,0,1],\n",
        "            [1,0,1,0,0],\n",
        "            [0,0,1,0,0],\n",
        "            [1,1,1,0,1]])\n",
        "\n",
        "Y = np.array([1,-1, 1, 1,-1,-1, 1])"
      ],
      "metadata": {
        "id": "8FjSh887e1TN"
      },
      "execution_count": null,
      "outputs": []
    },
    {
      "cell_type": "markdown",
      "source": [
        "Likelihood given name is boys'"
      ],
      "metadata": {
        "id": "yK16VlDsnmXH"
      }
    },
    {
      "cell_type": "code",
      "source": [
        "X[Y==1]"
      ],
      "metadata": {
        "colab": {
          "base_uri": "https://localhost:8080/"
        },
        "id": "L6_GGWisfACP",
        "outputId": "0d883741-74ab-4a0a-cbaa-0ad87f57bf15"
      },
      "execution_count": null,
      "outputs": [
        {
          "output_type": "execute_result",
          "data": {
            "text/plain": [
              "array([[0, 1, 1, 0, 1],\n",
              "       [1, 1, 1, 1, 0],\n",
              "       [0, 1, 1, 0, 1],\n",
              "       [1, 1, 1, 0, 1]])"
            ]
          },
          "metadata": {},
          "execution_count": 17
        }
      ]
    },
    {
      "cell_type": "code",
      "source": [
        "posprob"
      ],
      "metadata": {
        "colab": {
          "base_uri": "https://localhost:8080/"
        },
        "id": "x2_bsZHSfID7",
        "outputId": "d2eda5d6-5109-485f-f9d3-f2c6dafe56e6"
      },
      "execution_count": null,
      "outputs": [
        {
          "output_type": "execute_result",
          "data": {
            "text/plain": [
              "array([0.4, 0.8, 0.8, 0.2, 0.6])"
            ]
          },
          "metadata": {},
          "execution_count": 18
        }
      ]
    },
    {
      "cell_type": "code",
      "source": [
        "np.multiply(X[Y == 1], posprob)"
      ],
      "metadata": {
        "colab": {
          "base_uri": "https://localhost:8080/"
        },
        "id": "NkIrWAG8epgb",
        "outputId": "fa92cadb-17e4-4790-ac77-44bba330ab44"
      },
      "execution_count": null,
      "outputs": [
        {
          "output_type": "execute_result",
          "data": {
            "text/plain": [
              "array([[0. , 0.8, 0.8, 0. , 0.6],\n",
              "       [0.4, 0.8, 0.8, 0.2, 0. ],\n",
              "       [0. , 0.8, 0.8, 0. , 0.6],\n",
              "       [0.4, 0.8, 0.8, 0. , 0.6]])"
            ]
          },
          "metadata": {},
          "execution_count": 19
        }
      ]
    },
    {
      "cell_type": "code",
      "source": [
        "np.log(np.multiply(X[Y == 1], posprob))"
      ],
      "metadata": {
        "colab": {
          "base_uri": "https://localhost:8080/"
        },
        "id": "dosIS8SjhKEB",
        "outputId": "f45acb7c-9138-4856-af65-412057613e7b"
      },
      "execution_count": null,
      "outputs": [
        {
          "output_type": "stream",
          "name": "stderr",
          "text": [
            "<ipython-input-20-0da469a0bf28>:1: RuntimeWarning: divide by zero encountered in log\n",
            "  np.log(np.multiply(X[Y == 1], posprob))\n"
          ]
        },
        {
          "output_type": "execute_result",
          "data": {
            "text/plain": [
              "array([[       -inf, -0.22314355, -0.22314355,        -inf, -0.51082562],\n",
              "       [-0.91629073, -0.22314355, -0.22314355, -1.60943791,        -inf],\n",
              "       [       -inf, -0.22314355, -0.22314355,        -inf, -0.51082562],\n",
              "       [-0.91629073, -0.22314355, -0.22314355,        -inf, -0.51082562]])"
            ]
          },
          "metadata": {},
          "execution_count": 20
        }
      ]
    },
    {
      "cell_type": "code",
      "source": [
        "np.sum(np.log(np.multiply(X[Y == 1], posprob)))"
      ],
      "metadata": {
        "colab": {
          "base_uri": "https://localhost:8080/"
        },
        "id": "Xz63eszMhuBq",
        "outputId": "9268af4f-a9d0-420a-c1bb-c69cfaed1e89"
      },
      "execution_count": null,
      "outputs": [
        {
          "output_type": "stream",
          "name": "stderr",
          "text": [
            "<ipython-input-21-7fa6e5109b05>:1: RuntimeWarning: divide by zero encountered in log\n",
            "  np.sum(np.log(np.multiply(X[Y == 1], posprob)))\n"
          ]
        },
        {
          "output_type": "execute_result",
          "data": {
            "text/plain": [
              "-inf"
            ]
          },
          "metadata": {},
          "execution_count": 21
        }
      ]
    },
    {
      "cell_type": "code",
      "source": [
        "np.log(posprob)"
      ],
      "metadata": {
        "colab": {
          "base_uri": "https://localhost:8080/"
        },
        "id": "e4KuXY6YhXfZ",
        "outputId": "1b9bf336-00bb-4653-f676-dfab5ce4a74c"
      },
      "execution_count": null,
      "outputs": [
        {
          "output_type": "execute_result",
          "data": {
            "text/plain": [
              "array([-0.91629073, -0.22314355, -0.22314355, -1.60943791, -0.51082562])"
            ]
          },
          "metadata": {},
          "execution_count": 22
        }
      ]
    },
    {
      "cell_type": "code",
      "source": [
        "np.multiply(X[Y == 1], np.log(posprob))"
      ],
      "metadata": {
        "colab": {
          "base_uri": "https://localhost:8080/"
        },
        "id": "97Bi7nmKhdsW",
        "outputId": "b8a5de0e-59d6-42d7-93fc-7826068902b7"
      },
      "execution_count": null,
      "outputs": [
        {
          "output_type": "execute_result",
          "data": {
            "text/plain": [
              "array([[-0.        , -0.22314355, -0.22314355, -0.        , -0.51082562],\n",
              "       [-0.91629073, -0.22314355, -0.22314355, -1.60943791, -0.        ],\n",
              "       [-0.        , -0.22314355, -0.22314355, -0.        , -0.51082562],\n",
              "       [-0.91629073, -0.22314355, -0.22314355, -0.        , -0.51082562]])"
            ]
          },
          "metadata": {},
          "execution_count": 23
        }
      ]
    },
    {
      "cell_type": "code",
      "source": [
        "np.sum(np.multiply(X[Y == 1], np.log(posprob)), axis=1)"
      ],
      "metadata": {
        "colab": {
          "base_uri": "https://localhost:8080/"
        },
        "id": "KCFBZyXMhpN5",
        "outputId": "3e246bab-9ea6-468d-c5d0-008ba6e2f75c"
      },
      "execution_count": null,
      "outputs": [
        {
          "output_type": "execute_result",
          "data": {
            "text/plain": [
              "array([-0.95711273, -2.97201575, -0.95711273, -1.87340346])"
            ]
          },
          "metadata": {},
          "execution_count": 24
        }
      ]
    },
    {
      "cell_type": "code",
      "source": [
        "prob_boys_positive = np.sum(np.multiply(X[Y == 1], np.log(posprob)), axis=1)"
      ],
      "metadata": {
        "id": "tyExnw5ZkAGs"
      },
      "execution_count": null,
      "outputs": []
    },
    {
      "cell_type": "code",
      "source": [
        "X[Y == 1]@np.log(posprob)"
      ],
      "metadata": {
        "colab": {
          "base_uri": "https://localhost:8080/"
        },
        "id": "AF10qjJbBG3c",
        "outputId": "30dc4144-27a5-4ea4-e031-fc90e47a98c5"
      },
      "execution_count": null,
      "outputs": [
        {
          "output_type": "execute_result",
          "data": {
            "text/plain": [
              "array([-0.95711273, -2.97201575, -0.95711273, -1.87340346])"
            ]
          },
          "metadata": {},
          "execution_count": 54
        }
      ]
    },
    {
      "cell_type": "code",
      "source": [
        "1 - X[Y == 1]"
      ],
      "metadata": {
        "colab": {
          "base_uri": "https://localhost:8080/"
        },
        "id": "PWbldjTriyR4",
        "outputId": "85ba3114-0426-487a-acf6-8b7d272d4f28"
      },
      "execution_count": null,
      "outputs": [
        {
          "output_type": "execute_result",
          "data": {
            "text/plain": [
              "array([[1, 0, 0, 1, 0],\n",
              "       [0, 0, 0, 0, 1],\n",
              "       [1, 0, 0, 1, 0],\n",
              "       [0, 0, 0, 1, 0]])"
            ]
          },
          "metadata": {},
          "execution_count": 26
        }
      ]
    },
    {
      "cell_type": "code",
      "source": [
        "1 - posprob"
      ],
      "metadata": {
        "colab": {
          "base_uri": "https://localhost:8080/"
        },
        "id": "JHse8pG2i61X",
        "outputId": "e0715e53-7676-4774-c1f5-ea1a0b6ba122"
      },
      "execution_count": null,
      "outputs": [
        {
          "output_type": "execute_result",
          "data": {
            "text/plain": [
              "array([0.6, 0.2, 0.2, 0.8, 0.4])"
            ]
          },
          "metadata": {},
          "execution_count": 27
        }
      ]
    },
    {
      "cell_type": "code",
      "source": [
        "np.log(1-posprob)"
      ],
      "metadata": {
        "colab": {
          "base_uri": "https://localhost:8080/"
        },
        "id": "ys_u2exLmisj",
        "outputId": "a8774468-4300-4201-fba4-f3d49f7700b5"
      },
      "execution_count": null,
      "outputs": [
        {
          "output_type": "execute_result",
          "data": {
            "text/plain": [
              "array([-0.51082562, -1.60943791, -1.60943791, -0.22314355, -0.91629073])"
            ]
          },
          "metadata": {},
          "execution_count": 28
        }
      ]
    },
    {
      "cell_type": "code",
      "source": [
        "np.multiply(1 - X[Y == 1], np.log(1 - posprob))"
      ],
      "metadata": {
        "colab": {
          "base_uri": "https://localhost:8080/"
        },
        "id": "Xl4Y42GBmPP6",
        "outputId": "c21f6df8-e4e7-4fd1-eede-f8521a517229"
      },
      "execution_count": null,
      "outputs": [
        {
          "output_type": "execute_result",
          "data": {
            "text/plain": [
              "array([[-0.51082562, -0.        , -0.        , -0.22314355, -0.        ],\n",
              "       [-0.        , -0.        , -0.        , -0.        , -0.91629073],\n",
              "       [-0.51082562, -0.        , -0.        , -0.22314355, -0.        ],\n",
              "       [-0.        , -0.        , -0.        , -0.22314355, -0.        ]])"
            ]
          },
          "metadata": {},
          "execution_count": 29
        }
      ]
    },
    {
      "cell_type": "code",
      "source": [
        "prob_boys_complement = np.sum(np.multiply(1 - X[Y == 1], np.log(1 - posprob)), axis=1)"
      ],
      "metadata": {
        "id": "mj5hjpbvmtXH"
      },
      "execution_count": null,
      "outputs": []
    },
    {
      "cell_type": "code",
      "source": [
        "prob_boys_likelihood = prob_boys_positive + prob_boys_complement\n",
        "print(prob_boys_likelihood)"
      ],
      "metadata": {
        "colab": {
          "base_uri": "https://localhost:8080/"
        },
        "id": "si-lYVvsm4r7",
        "outputId": "36686728-2b98-4a40-ed4d-4a6a1b342ffe"
      },
      "execution_count": null,
      "outputs": [
        {
          "output_type": "stream",
          "name": "stdout",
          "text": [
            "[-1.6910819  -3.88830648 -1.6910819  -2.09654701]\n"
          ]
        }
      ]
    },
    {
      "cell_type": "code",
      "source": [],
      "metadata": {
        "id": "ly99GvPyneXl"
      },
      "execution_count": null,
      "outputs": []
    },
    {
      "cell_type": "markdown",
      "source": [
        "Likelihood given name is girls'"
      ],
      "metadata": {
        "id": "zjjhBE9NngIm"
      }
    },
    {
      "cell_type": "code",
      "source": [
        "X[Y==-1]"
      ],
      "metadata": {
        "colab": {
          "base_uri": "https://localhost:8080/"
        },
        "id": "zRjCE-2WicJ2",
        "outputId": "f3fddbfd-480c-40b9-e99f-d77acebaff6a"
      },
      "execution_count": null,
      "outputs": [
        {
          "output_type": "execute_result",
          "data": {
            "text/plain": [
              "array([[1, 0, 0, 1, 0],\n",
              "       [1, 0, 1, 0, 0],\n",
              "       [0, 0, 1, 0, 0]])"
            ]
          },
          "metadata": {},
          "execution_count": 32
        }
      ]
    },
    {
      "cell_type": "code",
      "source": [
        "negprob"
      ],
      "metadata": {
        "colab": {
          "base_uri": "https://localhost:8080/"
        },
        "id": "l06cfnh3iTnl",
        "outputId": "c27fb485-9a71-4b04-dcad-8125b35c3750"
      },
      "execution_count": null,
      "outputs": [
        {
          "output_type": "execute_result",
          "data": {
            "text/plain": [
              "array([0.75, 0.25, 0.75, 0.5 , 0.25])"
            ]
          },
          "metadata": {},
          "execution_count": 33
        }
      ]
    },
    {
      "cell_type": "code",
      "source": [
        "np.log(negprob)"
      ],
      "metadata": {
        "colab": {
          "base_uri": "https://localhost:8080/"
        },
        "id": "y03FuaCfnxu1",
        "outputId": "01156e64-7ab2-4a8d-a85d-3df38184891c"
      },
      "execution_count": null,
      "outputs": [
        {
          "output_type": "execute_result",
          "data": {
            "text/plain": [
              "array([-0.28768207, -1.38629436, -0.28768207, -0.69314718, -1.38629436])"
            ]
          },
          "metadata": {},
          "execution_count": 34
        }
      ]
    },
    {
      "cell_type": "code",
      "source": [
        "np.multiply(X[Y == -1], np.log(negprob))"
      ],
      "metadata": {
        "colab": {
          "base_uri": "https://localhost:8080/"
        },
        "id": "iDgSsIBWihCF",
        "outputId": "e3f9b2c7-0fa3-4db6-af53-31196b6f3aa5"
      },
      "execution_count": null,
      "outputs": [
        {
          "output_type": "execute_result",
          "data": {
            "text/plain": [
              "array([[-0.28768207, -0.        , -0.        , -0.69314718, -0.        ],\n",
              "       [-0.28768207, -0.        , -0.28768207, -0.        , -0.        ],\n",
              "       [-0.        , -0.        , -0.28768207, -0.        , -0.        ]])"
            ]
          },
          "metadata": {},
          "execution_count": 35
        }
      ]
    },
    {
      "cell_type": "code",
      "source": [
        "(X[Y == -1])@np.log(negprob)"
      ],
      "metadata": {
        "colab": {
          "base_uri": "https://localhost:8080/"
        },
        "id": "1UrBTNotAqS2",
        "outputId": "eed6c159-c343-4ed4-d37e-c17a758875fa"
      },
      "execution_count": null,
      "outputs": [
        {
          "output_type": "execute_result",
          "data": {
            "text/plain": [
              "array([-0.98082925, -0.57536414, -0.28768207])"
            ]
          },
          "metadata": {},
          "execution_count": 53
        }
      ]
    },
    {
      "cell_type": "code",
      "source": [
        "prob_girls_positive = np.sum(np.multiply(X[Y == -1], np.log(negprob)), axis=1)\n",
        "print(prob_girls_positive)"
      ],
      "metadata": {
        "colab": {
          "base_uri": "https://localhost:8080/"
        },
        "id": "tge_eOejipV6",
        "outputId": "41a0bd81-ca16-4d73-d04a-01fbc86ce829"
      },
      "execution_count": null,
      "outputs": [
        {
          "output_type": "stream",
          "name": "stdout",
          "text": [
            "[-0.98082925 -0.57536414 -0.28768207]\n"
          ]
        }
      ]
    },
    {
      "cell_type": "code",
      "source": [
        "1 - X[Y==-1]"
      ],
      "metadata": {
        "colab": {
          "base_uri": "https://localhost:8080/"
        },
        "id": "5_2DkaSfoDpo",
        "outputId": "c15514ef-9523-4e36-e593-8617febd8812"
      },
      "execution_count": null,
      "outputs": [
        {
          "output_type": "execute_result",
          "data": {
            "text/plain": [
              "array([[0, 1, 1, 0, 1],\n",
              "       [0, 1, 0, 1, 1],\n",
              "       [1, 1, 0, 1, 1]])"
            ]
          },
          "metadata": {},
          "execution_count": 37
        }
      ]
    },
    {
      "cell_type": "code",
      "source": [
        "1 - negprob"
      ],
      "metadata": {
        "colab": {
          "base_uri": "https://localhost:8080/"
        },
        "id": "fr255EzAoKBh",
        "outputId": "1995aae4-fc07-4011-d545-4ac472ed1857"
      },
      "execution_count": null,
      "outputs": [
        {
          "output_type": "execute_result",
          "data": {
            "text/plain": [
              "array([0.25, 0.75, 0.25, 0.5 , 0.75])"
            ]
          },
          "metadata": {},
          "execution_count": 38
        }
      ]
    },
    {
      "cell_type": "code",
      "source": [
        "np.log(1-negprob)"
      ],
      "metadata": {
        "colab": {
          "base_uri": "https://localhost:8080/"
        },
        "id": "4Pjpl5DwoQtl",
        "outputId": "a21acb6c-1212-444b-c913-ef0911ad19a8"
      },
      "execution_count": null,
      "outputs": [
        {
          "output_type": "execute_result",
          "data": {
            "text/plain": [
              "array([-1.38629436, -0.28768207, -1.38629436, -0.69314718, -0.28768207])"
            ]
          },
          "metadata": {},
          "execution_count": 39
        }
      ]
    },
    {
      "cell_type": "code",
      "source": [
        "np.multiply(1 - X[Y == -1], np.log(1 - negprob))"
      ],
      "metadata": {
        "colab": {
          "base_uri": "https://localhost:8080/"
        },
        "id": "L7VLqTSsoTqn",
        "outputId": "7c3e9a42-af7f-4d84-8941-778431e5f6df"
      },
      "execution_count": null,
      "outputs": [
        {
          "output_type": "execute_result",
          "data": {
            "text/plain": [
              "array([[-0.        , -0.28768207, -1.38629436, -0.        , -0.28768207],\n",
              "       [-0.        , -0.28768207, -0.        , -0.69314718, -0.28768207],\n",
              "       [-1.38629436, -0.28768207, -0.        , -0.69314718, -0.28768207]])"
            ]
          },
          "metadata": {},
          "execution_count": 40
        }
      ]
    },
    {
      "cell_type": "code",
      "source": [
        "prob_girls_complement = np.sum(np.multiply(1-X[Y == -1], np.log(1-negprob)), axis=1)\n",
        "print(prob_girls_complement)"
      ],
      "metadata": {
        "colab": {
          "base_uri": "https://localhost:8080/"
        },
        "id": "VRWpNb7NofdG",
        "outputId": "30a0e04f-a38b-45b1-edd7-af77a01ca676"
      },
      "execution_count": null,
      "outputs": [
        {
          "output_type": "stream",
          "name": "stdout",
          "text": [
            "[-1.96165851 -1.26851133 -2.65480569]\n"
          ]
        }
      ]
    },
    {
      "cell_type": "code",
      "source": [
        "prob_girls_likelihood = prob_girls_positive + prob_girls_complement\n",
        "print(prob_girls_likelihood)"
      ],
      "metadata": {
        "colab": {
          "base_uri": "https://localhost:8080/"
        },
        "id": "Vjv4Oy3Moqn9",
        "outputId": "4daa124d-51a6-436b-ef88-28922599672a"
      },
      "execution_count": null,
      "outputs": [
        {
          "output_type": "stream",
          "name": "stdout",
          "text": [
            "[-2.94248776 -1.84387547 -2.94248776]\n"
          ]
        }
      ]
    },
    {
      "cell_type": "code",
      "source": [
        "likelihood = np.concatenate((prob_boys_likelihood, prob_girls_likelihood), axis = 0)\n",
        "print(likelihood)"
      ],
      "metadata": {
        "colab": {
          "base_uri": "https://localhost:8080/"
        },
        "id": "ck_hLh_jpTnc",
        "outputId": "ef1f9438-dcff-45ac-dabd-c161b32e8caf"
      },
      "execution_count": null,
      "outputs": [
        {
          "output_type": "stream",
          "name": "stdout",
          "text": [
            "[-1.6910819  -3.88830648 -1.6910819  -2.09654701 -2.94248776 -1.84387547\n",
            " -2.94248776]\n"
          ]
        }
      ]
    },
    {
      "cell_type": "code",
      "source": [
        "Y"
      ],
      "metadata": {
        "colab": {
          "base_uri": "https://localhost:8080/"
        },
        "id": "sRxzDFSJrQH-",
        "outputId": "783b5aa2-aedf-42af-d6db-f2aad45ccc27"
      },
      "execution_count": null,
      "outputs": [
        {
          "output_type": "execute_result",
          "data": {
            "text/plain": [
              "array([ 1, -1,  1,  1, -1, -1,  1])"
            ]
          },
          "metadata": {},
          "execution_count": 45
        }
      ]
    },
    {
      "cell_type": "code",
      "source": [
        "_,idx=np.unique(Y, axis=0,return_index=True)\n",
        "print(idx)"
      ],
      "metadata": {
        "colab": {
          "base_uri": "https://localhost:8080/"
        },
        "id": "vfzUBAhDuh1Z",
        "outputId": "dc9a592a-4d26-4af4-c165-515e756d48b1"
      },
      "execution_count": null,
      "outputs": [
        {
          "output_type": "stream",
          "name": "stdout",
          "text": [
            "[1 0]\n"
          ]
        }
      ]
    },
    {
      "cell_type": "code",
      "source": [
        "likelihood[np.sort(idx)]"
      ],
      "metadata": {
        "colab": {
          "base_uri": "https://localhost:8080/"
        },
        "id": "SSdPTvI2uo65",
        "outputId": "7d9e3c58-cd12-4a8f-f234-a927dcb9e062"
      },
      "execution_count": null,
      "outputs": [
        {
          "output_type": "execute_result",
          "data": {
            "text/plain": [
              "array([-1.6910819 , -3.88830648])"
            ]
          },
          "metadata": {},
          "execution_count": 130
        }
      ]
    },
    {
      "cell_type": "markdown",
      "source": [
        "indices expected 0, *, *, 5, 1,"
      ],
      "metadata": {
        "id": "vBMd-l0WsVFO"
      }
    },
    {
      "cell_type": "code",
      "source": [
        "idx = np.sort(Y, axis=None) # get the indices that sort Y\n",
        "print(idx)\n"
      ],
      "metadata": {
        "colab": {
          "base_uri": "https://localhost:8080/"
        },
        "id": "4KYbOU88pp2B",
        "outputId": "995727b8-bce2-406a-e9ec-f151c66b74b6"
      },
      "execution_count": null,
      "outputs": [
        {
          "output_type": "stream",
          "name": "stdout",
          "text": [
            "[-1 -1 -1  1  1  1  1]\n"
          ]
        }
      ]
    },
    {
      "cell_type": "code",
      "source": [
        "likelihood = likelihood[idx]\n",
        "print(likelihood)"
      ],
      "metadata": {
        "colab": {
          "base_uri": "https://localhost:8080/"
        },
        "id": "3TIdacL_q6Vk",
        "outputId": "ae4cd8f7-a754-44a2-af30-a7073b43bc6e"
      },
      "execution_count": null,
      "outputs": [
        {
          "output_type": "stream",
          "name": "stdout",
          "text": [
            "[-1.6910819  -3.88830648 -1.6910819  -2.09654701 -2.94248776 -1.84387547\n",
            " -2.94248776]\n"
          ]
        }
      ]
    },
    {
      "cell_type": "code",
      "source": [
        "X"
      ],
      "metadata": {
        "colab": {
          "base_uri": "https://localhost:8080/"
        },
        "id": "DOiarC5Ik_sh",
        "outputId": "f1104b17-c0b0-44c2-b05d-271af3b0b9a4"
      },
      "execution_count": null,
      "outputs": [
        {
          "output_type": "execute_result",
          "data": {
            "text/plain": [
              "array([[0, 1, 1, 0, 1],\n",
              "       [1, 0, 0, 1, 0],\n",
              "       [1, 1, 1, 1, 0],\n",
              "       [0, 1, 1, 0, 1],\n",
              "       [1, 0, 1, 0, 0],\n",
              "       [0, 0, 1, 0, 0],\n",
              "       [1, 1, 1, 0, 1]])"
            ]
          },
          "metadata": {},
          "execution_count": 46
        }
      ]
    },
    {
      "cell_type": "code",
      "source": [
        "X_indexed = list(enumerate(X))\n",
        "print(X_indexed)"
      ],
      "metadata": {
        "colab": {
          "base_uri": "https://localhost:8080/"
        },
        "id": "EkUJULnCwO2i",
        "outputId": "7c2d09bb-cc1b-4974-a187-b721bc950b2f"
      },
      "execution_count": null,
      "outputs": [
        {
          "output_type": "stream",
          "name": "stdout",
          "text": [
            "[(0, array([0, 1, 1, 0, 1])), (1, array([1, 0, 0, 1, 0])), (2, array([1, 1, 1, 1, 0])), (3, array([0, 1, 1, 0, 1])), (4, array([1, 0, 1, 0, 0])), (5, array([0, 0, 1, 0, 0])), (6, array([1, 1, 1, 0, 1]))]\n"
          ]
        }
      ]
    },
    {
      "cell_type": "code",
      "source": [
        "original_order_likelihood = [likelihood[i] for i,_ in X_indexed]\n",
        "print(original_order_likelihood)"
      ],
      "metadata": {
        "colab": {
          "base_uri": "https://localhost:8080/"
        },
        "id": "i0k_Zn3iof1a",
        "outputId": "c2d91309-c775-4a89-b8dd-f60e6bb097f0"
      },
      "execution_count": null,
      "outputs": [
        {
          "output_type": "stream",
          "name": "stdout",
          "text": [
            "[-1.6910819014746106, -3.88830647881083, -1.6910819014746106, -2.0965470095827747, -2.9424877590351786, -1.8438754703670688, -2.9424877590351786]\n"
          ]
        }
      ]
    },
    {
      "cell_type": "code",
      "source": [],
      "metadata": {
        "id": "WEcTldjrppyg"
      },
      "execution_count": null,
      "outputs": []
    },
    {
      "cell_type": "code",
      "source": [
        "X = [3, 7, 1, 5]\n",
        "Y = [+1, -1, -1, +1]\n",
        "\n",
        "# create a list of tuples with the index and value of each element in X\n",
        "indexed_X = list(enumerate(X))\n",
        "\n",
        "# sort the list of tuples based on the labels Y\n",
        "sorted_X = sorted(indexed_X, key=lambda x: Y[x[0]])\n",
        "\n",
        "# process the sorted list of tuples\n",
        "processed_X = [process(x[1]) for x in sorted_X]\n",
        "\n",
        "# sort the processed list of tuples back to the original order\n",
        "original_order_X = [processed_X[i] for i, _ in indexed_X]\n"
      ],
      "metadata": {
        "id": "msZcXi2fwPGF"
      },
      "execution_count": null,
      "outputs": []
    },
    {
      "cell_type": "code",
      "source": [
        "def loglikelihood(posprob, negprob, X_test, Y_test):\n",
        "    \"\"\"\n",
        "    loglikelihood(posprob, negprob, X_test, Y_test) returns loglikelihood of each point in X_test\n",
        "\n",
        "    Input:\n",
        "        posprob: conditional probabilities for the positive class (d)\n",
        "        negprob: conditional probabilities for the negative class (d)\n",
        "        X_test : features (nxd)\n",
        "        Y_test : labels (-1 or +1) (n)\n",
        "\n",
        "    Output:\n",
        "        loglikelihood of each point in X_test (n)\n",
        "    \"\"\"\n",
        "\n",
        "    n, d = X_test.shape\n",
        "    loglikelihood = np.zeros(n)\n",
        "\n",
        "    # Filter by boys and girls\n",
        "    positive = (Y_test == 1)\n",
        "    negative = (Y_test == -1)\n",
        "\n",
        "    #use outerproduct to multiply vector element-wise to matrix and sum across rows, modify the zero-vector\n",
        "    #impute the inverses for posprob and negprob\n",
        "    loglikelihood[positive] = (X_test[positive])@np.log(posprob) + (1-X_test[positive])@np.log(1-posprob)\n",
        "    loglikelihood[negative] = (X_test[negative])@np.log(negprob) + (1-X_test[negative])@np.log(1-negprob)\n",
        "\n",
        "    return loglikelihood\n",
        "\n",
        "    raise NotImplementedError()"
      ],
      "metadata": {
        "id": "teOiY5iTaD55"
      },
      "execution_count": null,
      "outputs": []
    },
    {
      "cell_type": "code",
      "source": [
        "loglikelihood(posprob, negprob, X, Y)"
      ],
      "metadata": {
        "colab": {
          "base_uri": "https://localhost:8080/"
        },
        "id": "c0l56Hr7lA84",
        "outputId": "0aea517f-119d-4ede-a660-5518eaa00bb2"
      },
      "execution_count": null,
      "outputs": [
        {
          "output_type": "execute_result",
          "data": {
            "text/plain": [
              "array([-1.6910819 , -2.94248776, -3.88830648, -1.6910819 , -1.84387547,\n",
              "       -2.94248776, -2.09654701])"
            ]
          },
          "metadata": {},
          "execution_count": 58
        }
      ]
    },
    {
      "cell_type": "markdown",
      "source": [
        "# **Part Four: Naïve Bayes Prediction**\n",
        "\n",
        "Observe that for a test point  𝐱𝑡𝑒𝑠𝑡\n",
        " , we should classify it as positive if the log ratio  log(𝑃(𝑌=1|𝐱=𝐱𝑡𝑒𝑠𝑡)𝑃(𝑌=−1|𝐱=𝐱𝑡𝑒𝑠𝑡))>0\n",
        "  and negative otherwise.\n",
        "  \n",
        "  Implement the naivebayes_pred by first calculating the log ratio  log(𝑃(𝑌=1|𝐱=𝐱𝑡𝑒𝑠𝑡)𝑃(𝑌=−1|𝐱=𝐱𝑡𝑒𝑠𝑡))\n",
        "  for each test point in  𝐱𝑡𝑒𝑠𝑡\n",
        "  using Bayes' rule and predict the label of the test points by looking at the log ratio.\n",
        "\n",
        "Recall\n",
        "Bayes' theorem:\n",
        "𝑃(𝑌=𝑦|𝐱=𝐱𝑡𝑒𝑠𝑡)= 𝑃(𝐱=𝐱𝑡𝑒𝑠𝑡|𝑌=𝑦)⋅𝑃(𝑌=𝑦)𝑃(𝐱)\n",
        "\n",
        "𝑃(𝑌=𝑦|𝐱=𝐱𝑡𝑒𝑠𝑡) posterior ∝ 𝑃(𝐱=𝐱𝑡𝑒𝑠𝑡|𝑌=𝑦)ikelihood⋅𝑃(𝑌=prior)\n",
        "\n",
        "where  ∝\n",
        "  is the proportionality symbol. Proportionality applies because we have dropped the denominator  \n",
        "  \n",
        "  𝑃(𝐱), which is just a multiplicative constant when finding  𝑦\n",
        "  that maximixes the posterior.\n",
        "\n",
        "Given probabilities:\n",
        "\n",
        "pos:  𝑃(𝑌=1)\n",
        "\n",
        "neg:  𝑃(𝑌=−1)\n",
        "\n",
        "posprob vector:  𝑃([𝐱]𝛼=1|𝑌=1)\n",
        "\n",
        "negprob vector:  𝑃([𝐱]𝛼=1|𝑌=−1)\n",
        "\n",
        "loglikelihood function you just implemented.\n",
        "\n",
        "Facts  log(𝑎𝑏)=log𝑎+log𝑏\n",
        "\n",
        "  and  log(𝑎𝑏)=log𝑎−log𝑏\n",
        "\n",
        "  (can simplify your calculations)."
      ],
      "metadata": {
        "id": "Xo-zOJ2kEUvf"
      }
    },
    {
      "cell_type": "code",
      "source": [
        "def naivebayes_pred(pos, neg, posprob, negprob, X_test):\n",
        "    \"\"\"\n",
        "    naivebayes_pred(pos, neg, posprob, negprob, X_test) returns the prediction of each point in X_test\n",
        "\n",
        "    Input:\n",
        "        pos: class probability for the negative class\n",
        "        neg: class probability for the positive class\n",
        "        posprob: conditional probabilities for the positive class (d)\n",
        "        negprob: conditional probabilities for the negative class (d)\n",
        "        X_test : features (nxd)\n",
        "\n",
        "    Output:\n",
        "        prediction of each point in X_test (n)\n",
        "    \"\"\"\n",
        "\n",
        "    n, d = X_test.shape\n",
        "\n",
        "    #log of priors\n",
        "    pos = np.log(naivebayesPY(X,Y))[0]\n",
        "    neg = np.log(naivebayesPY(X,Y))[1]\n",
        "\n",
        "    # create loglikelihoods for all test data being labelled as boy or girl, using conditinoal probabilities from training data\n",
        "    loglikelihood_pos = loglikelihood(posprob,negprob, X_test, np.ones(n))\n",
        "    loglikelihood_neg = loglikelihood(posprob, negprob, X_test, -np.ones(n))\n",
        "\n",
        "    #naivebayes_pred quotient between the posteriors of boy vs girl\n",
        "    naivebayes_pred_pos = pos + loglikelihood_pos\n",
        "    naivebayes_pred_neg = neg + loglikelihood_neg\n",
        "    quotient = naivebayes_pred_pos - naivebayes_pred_neg\n",
        "\n",
        "    #prediction vector, if quotient <0, output is -1\n",
        "    pred = -np.ones(n)\n",
        "    pred[quotient > 0] = 1\n",
        "\n",
        "    return pred\n",
        "\n",
        "    raise NotImplementedError()"
      ],
      "metadata": {
        "id": "w5wC-WWeE12H"
      },
      "execution_count": null,
      "outputs": []
    },
    {
      "cell_type": "code",
      "source": [
        "naivebayesPY(X, Y)"
      ],
      "metadata": {
        "colab": {
          "base_uri": "https://localhost:8080/"
        },
        "id": "PmmV5wW8GWPX",
        "outputId": "0b11a832-9b6d-4e59-e8f4-6047ca162828"
      },
      "execution_count": null,
      "outputs": [
        {
          "output_type": "execute_result",
          "data": {
            "text/plain": [
              "[0.5555555555555556, 0.4444444444444444]"
            ]
          },
          "metadata": {},
          "execution_count": 59
        }
      ]
    },
    {
      "cell_type": "code",
      "source": [
        "np.log(naivebayesPY(X, Y))"
      ],
      "metadata": {
        "colab": {
          "base_uri": "https://localhost:8080/"
        },
        "id": "r4jKz0EuGXUp",
        "outputId": "e6709223-7157-4df7-d8d0-378eb89f967d"
      },
      "execution_count": null,
      "outputs": [
        {
          "output_type": "execute_result",
          "data": {
            "text/plain": [
              "array([-0.58778666, -0.81093022])"
            ]
          },
          "metadata": {},
          "execution_count": 60
        }
      ]
    },
    {
      "cell_type": "code",
      "source": [
        "np.log(naivebayesPY(X,Y))[0]"
      ],
      "metadata": {
        "colab": {
          "base_uri": "https://localhost:8080/"
        },
        "id": "rqjlwxHwGZ2v",
        "outputId": "3a596eae-fd24-4212-fe64-fa940cb66da2"
      },
      "execution_count": null,
      "outputs": [
        {
          "output_type": "execute_result",
          "data": {
            "text/plain": [
              "-0.587786664902119"
            ]
          },
          "metadata": {},
          "execution_count": 61
        }
      ]
    },
    {
      "cell_type": "code",
      "source": [
        "loglikelihood(posprob, negprob, X, Y)"
      ],
      "metadata": {
        "colab": {
          "base_uri": "https://localhost:8080/"
        },
        "id": "iietpALpGgWs",
        "outputId": "463493fa-b6ce-4858-cacc-084ecbf4ea33"
      },
      "execution_count": null,
      "outputs": [
        {
          "output_type": "execute_result",
          "data": {
            "text/plain": [
              "array([-1.6910819 , -2.94248776, -3.88830648, -1.6910819 , -1.84387547,\n",
              "       -2.94248776, -2.09654701])"
            ]
          },
          "metadata": {},
          "execution_count": 68
        }
      ]
    },
    {
      "cell_type": "code",
      "source": [
        "loglikelihood[Y ==1] #why not?"
      ],
      "metadata": {
        "colab": {
          "base_uri": "https://localhost:8080/",
          "height": 164
        },
        "id": "cgWf0ZMMOU4l",
        "outputId": "deb1fa77-94cc-4a3e-bc1f-1f67021d0c0f"
      },
      "execution_count": null,
      "outputs": [
        {
          "output_type": "error",
          "ename": "TypeError",
          "evalue": "ignored",
          "traceback": [
            "\u001b[0;31m---------------------------------------------------------------------------\u001b[0m",
            "\u001b[0;31mTypeError\u001b[0m                                 Traceback (most recent call last)",
            "\u001b[0;32m<ipython-input-69-54180eacabfb>\u001b[0m in \u001b[0;36m<module>\u001b[0;34m\u001b[0m\n\u001b[0;32m----> 1\u001b[0;31m \u001b[0mloglikelihood\u001b[0m\u001b[0;34m[\u001b[0m\u001b[0mY\u001b[0m \u001b[0;34m==\u001b[0m\u001b[0;36m1\u001b[0m\u001b[0;34m]\u001b[0m\u001b[0;34m\u001b[0m\u001b[0;34m\u001b[0m\u001b[0m\n\u001b[0m",
            "\u001b[0;31mTypeError\u001b[0m: 'function' object is not subscriptable"
          ]
        }
      ]
    },
    {
      "cell_type": "code",
      "source": [
        "#avoid for-loops though\n",
        "for i in range(n):\n",
        "      if quotient >0:\n",
        "        return i + \"boy\"\n",
        "      else:\n",
        "        return i + \"girl\""
      ],
      "metadata": {
        "id": "epa4mQE7ObTI"
      },
      "execution_count": null,
      "outputs": []
    }
  ]
}